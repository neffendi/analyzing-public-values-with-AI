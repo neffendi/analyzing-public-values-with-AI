{
 "cells": [
  {
   "cell_type": "code",
   "execution_count": null,
   "id": "40576896-419c-4db3-b923-0807eb5a2ef5",
   "metadata": {
    "colab": {
     "base_uri": "https://localhost:8080/"
    },
    "executionInfo": {
     "elapsed": 28463,
     "status": "ok",
     "timestamp": 1647298592459,
     "user": {
      "displayName": "Nazih Effendi",
      "photoUrl": "https://lh3.googleusercontent.com/a/default-user=s64",
      "userId": "12525088258719974037"
     },
     "user_tz": -60
    },
    "id": "40576896-419c-4db3-b923-0807eb5a2ef5",
    "outputId": "6bc76bab-43dd-4773-8acc-ef7b4bf46d03"
   },
   "outputs": [
    {
     "name": "stdout",
     "output_type": "stream",
     "text": [
      "Requirement already satisfied: statsmodels in /usr/local/lib/python3.7/dist-packages (0.10.2)\n",
      "Collecting statsmodels\n",
      "  Downloading statsmodels-0.13.2-cp37-cp37m-manylinux_2_17_x86_64.manylinux2014_x86_64.whl (9.8 MB)\n",
      "\u001b[K     |████████████████████████████████| 9.8 MB 8.1 MB/s \n",
      "\u001b[?25hRequirement already satisfied: patsy>=0.5.2 in /usr/local/lib/python3.7/dist-packages (from statsmodels) (0.5.2)\n",
      "Requirement already satisfied: packaging>=21.3 in /usr/local/lib/python3.7/dist-packages (from statsmodels) (21.3)\n",
      "Requirement already satisfied: scipy>=1.3 in /usr/local/lib/python3.7/dist-packages (from statsmodels) (1.4.1)\n",
      "Requirement already satisfied: numpy>=1.17 in /usr/local/lib/python3.7/dist-packages (from statsmodels) (1.21.5)\n",
      "Requirement already satisfied: pandas>=0.25 in /usr/local/lib/python3.7/dist-packages (from statsmodels) (1.3.5)\n",
      "Requirement already satisfied: pyparsing!=3.0.5,>=2.0.2 in /usr/local/lib/python3.7/dist-packages (from packaging>=21.3->statsmodels) (3.0.7)\n",
      "Requirement already satisfied: pytz>=2017.3 in /usr/local/lib/python3.7/dist-packages (from pandas>=0.25->statsmodels) (2018.9)\n",
      "Requirement already satisfied: python-dateutil>=2.7.3 in /usr/local/lib/python3.7/dist-packages (from pandas>=0.25->statsmodels) (2.8.2)\n",
      "Requirement already satisfied: six in /usr/local/lib/python3.7/dist-packages (from patsy>=0.5.2->statsmodels) (1.15.0)\n",
      "Installing collected packages: statsmodels\n",
      "  Attempting uninstall: statsmodels\n",
      "    Found existing installation: statsmodels 0.10.2\n",
      "    Uninstalling statsmodels-0.10.2:\n",
      "      Successfully uninstalled statsmodels-0.10.2\n",
      "Successfully installed statsmodels-0.13.2\n",
      "Mounted at /content/drive\n"
     ]
    }
   ],
   "source": [
    "# Instalation and importation of libraries\n",
    "!pip install statsmodels --upgrade\n",
    "import pandas as pd\n",
    "import numpy as np\n",
    "import matplotlib.pyplot as plt \n",
    "from scipy.stats import spearmanr\n",
    "from statsmodels.miscmodels.ordinal_model import OrderedModel\n",
    "import scipy.stats as stats\n",
    "import seaborn as sns\n",
    "from sklearn.model_selection import train_test_split\n",
    "from sklearn.metrics import mean_squared_error, r2_score\n",
    "import time\n",
    "from scipy.stats._stats import _kendall_dis\n",
    "from google.colab import drive\n",
    "drive.mount('/content/drive')\n",
    "import warnings\n",
    "warnings.filterwarnings(\"ignore\")"
   ]
  },
  {
   "cell_type": "code",
   "execution_count": null,
   "id": "t5FOEk-pGoUl",
   "metadata": {
    "id": "t5FOEk-pGoUl"
   },
   "outputs": [],
   "source": [
    "\n",
    "# Function to check the frequency of the modalities of the dependent variable\n",
    "def responseprofile(y):\n",
    "    ydf = pd.DataFrame(y)\n",
    "    ydf.columns = ['y'] \n",
    "    tata=pd.crosstab(index=ydf['y'], columns='count')\n",
    "    tata[['count']]\n",
    "    tata.index.name = 'values'\n",
    "    tata.reset_index(inplace=True)\n",
    "    the_table=pd.DataFrame(data=tata)\n",
    "    the_table.columns = ['Ordered Values (y)' , 'Total Frequency']\n",
    "    plt.subplot(212)\n",
    "    plt.title('Response Profile',fontsize=20,y=1.7)\n",
    "    plt.axis('off')\n",
    "    plt.axis('tight')\n",
    "    test2=plt.table(cellText=the_table.values, loc='center', cellLoc='center', colLabels=the_table.columns, colWidths=[0.4,0.4])\n",
    "    test2.auto_set_font_size(False)\n",
    "    test2.set_fontsize(16) \n",
    "    test2.scale(2, 1.7)\n",
    " \n",
    "\n",
    " # Function to check AIC and BIC of model    \n",
    "def informationcriteria(y,logit_res):\n",
    "    freqy=y.value_counts()\n",
    "    m=len(freqy)\n",
    "    the_table3 = [['AIC', np.round(-2*(logit_res.llnull-(m-1)),3),np.round(logit_res.aic,3)],\n",
    "                      ['BIC', np.round(-2*logit_res.llnull+(m-1)*np.log(logit_res.nobs),3),np.round(logit_res.bic,3)], \n",
    "                      ['-2LogL', np.round(-2*logit_res.llnull,3),np.round(-2*logit_res.llf,3)]]\n",
    "    the_table3=pd.DataFrame(data=the_table3)\n",
    "    the_table3.columns = ['Criterion', 'Intercept Only', 'Intercept and Covariates']\n",
    "    plt.subplot(311)\n",
    "    plt.title('Information Criteria',fontsize=20, y=1.1)\n",
    "    plt.axis('off')\n",
    "    plt.axis('tight')\n",
    "    test3=plt.table(cellText=the_table3.values, colLabels=the_table3.columns, loc='center', cellLoc='center', colWidths=[0.4,0.4,0.4])\n",
    "    test3.auto_set_font_size(False)\n",
    "    test3.set_fontsize(16) \n",
    "    test3.scale(2, 1.7)\n",
    "\n",
    "# Function for perfrorming Likelihood Ratio Test and Wald Test to check if the independent variables are globally significant    \n",
    "def globalnull(y,logit_res):\n",
    "    freqy=y.value_counts()\n",
    "    m=len(freqy)\n",
    "    M = np.identity(len(logit_res.params))\n",
    "    M = M[:len(logit_res.params)-m+1,:]\n",
    "    wald_global = logit_res.wald_test(M,scalar=False) \n",
    "    globalnull = [['Likelihood Ratio Test',round(logit_res.llr,4),round(logit_res.df_model)-m+1,round(logit_res.llr_pvalue,5)],\n",
    "                 ['Wald',round(wald_global.statistic.item(),4), round(logit_res.df_model)-m+1,round(wald_global.pvalue.item(),5)]]\n",
    "    globalnull=pd.DataFrame(data=globalnull)\n",
    "    globalnull.columns = ['Test','Chi-Square','DF','Pr>ChiSq' ]\n",
    "    plt.subplot(312)\n",
    "    plt.title('Testing Global Null Hypothesis: BETA=0',fontsize=20)\n",
    "    plt.axis('off')\n",
    "    plt.axis('tight')\n",
    "    test=plt.table(cellText=globalnull.values, colLabels=globalnull.columns, \n",
    "                   loc='center', cellLoc='center', colWidths=[0.3,0.2,0.2,0.2])\n",
    "    test.auto_set_font_size(False)\n",
    "    test.set_fontsize(18) \n",
    "    test.scale(2, 1.7)\n",
    "\n",
    "# Function to get the odd ratios of the independent variables \n",
    "def oddsratioestimates(y,logit_res):\n",
    "    freqy=y.value_counts()\n",
    "    m=len(freqy)\n",
    "    params = logit_res.params[:len(logit_res.params)-m+1]\n",
    "    conf = logit_res.conf_int()\n",
    "    conf=conf.iloc[:len(logit_res.params)-m+1]\n",
    "    confodr=np.exp(-conf)\n",
    "    odr=np.exp(-params.to_frame())\n",
    "    odr=odr.rename(columns={0:'Point Estimate'})\n",
    "    confodr=confodr.rename(columns={0:'5%', 1:'95%'})\n",
    "    table=pd.concat([odr[['Point Estimate']], confodr[['95%','5%']]], axis=1)\n",
    "    plt.subplot(313)\n",
    "    plt.title('Odds Ratio Estimates',fontsize=20,y=1.4)\n",
    "    plt.axis('off')\n",
    "    plt.axis('tight')\n",
    "    table.update(table.astype(float))\n",
    "    table.update(table.applymap('{:,.3f}'.format))\n",
    "    test=plt.table(cellText=table.values, colLabels=['Point Estimate', 'Lower CI (95% Wald)','Upper CI (95% Wald)'],  \n",
    "                   rowLabels=table.index, loc='center',cellLoc='center',colWidths=[0.3,0.35,0.35])\n",
    "    plt.axis('off')\n",
    "    test.auto_set_font_size(False)\n",
    "    test.set_fontsize(20) \n",
    "    test.scale(2, 1.7)\n",
    "    print('!!ATTENTION: Odds ratio are only OK with the Logit link function!!')\n",
    "    \n",
    "\n",
    "  \n",
    "def drop_column_range(start_col_name, end_col_name):\n",
    "    country_index1 = df.columns.get_loc(start_col_name)\n",
    "    country_index2 = df.columns.get_loc(end_col_name)\n",
    "    print(country_index1, country_index2+1)   \n",
    "    col_drop_country = df.iloc[:,country_index1:country_index2+1].columns\n",
    "    print(col_drop_country)  \n",
    "    df.drop(labels=col_drop_country, axis=1, inplace=True)\n",
    "    print(df.shape)   "
   ]
  },
  {
   "cell_type": "code",
   "execution_count": null,
   "id": "d0e1cdc1-a15a-412b-be2c-d420962f0bfa",
   "metadata": {
    "id": "d0e1cdc1-a15a-412b-be2c-d420962f0bfa"
   },
   "outputs": [],
   "source": [
    "# Loading file into dataframe\n",
    "df = pd.read_csv('/content/drive/MyDrive/Data Science Projects/Copy of EES.csv', sep = ';')"
   ]
  },
  {
   "cell_type": "code",
   "execution_count": null,
   "id": "74fc5ef1-8674-4cce-b2f6-c42d3a2126fe",
   "metadata": {
    "id": "74fc5ef1-8674-4cce-b2f6-c42d3a2126fe"
   },
   "outputs": [],
   "source": [
    "# Dropping some columns because it refers to metainformation of the interviews we do not need\n",
    "df.drop(labels=[\"essround\",\"edition\",\"proddate\",\"idno\",\"cntry\",\"ctzshipc\", \"cntbrthc\", \"lnghom1\", \n",
    "                \"lnghom2\", \"fbrncntb\", \"mbrncntb\", \"icomdng\", ], axis=1, inplace=True)\n",
    "\n"
   ]
  },
  {
   "cell_type": "code",
   "execution_count": null,
   "id": "2d721843-6a26-449e-8a51-7d6777c58ee7",
   "metadata": {
    "colab": {
     "base_uri": "https://localhost:8080/"
    },
    "executionInfo": {
     "elapsed": 799,
     "status": "ok",
     "timestamp": 1647298596767,
     "user": {
      "displayName": "Nazih Effendi",
      "photoUrl": "https://lh3.googleusercontent.com/a/default-user=s64",
      "userId": "12525088258719974037"
     },
     "user_tz": -60
    },
    "id": "2d721843-6a26-449e-8a51-7d6777c58ee7",
    "outputId": "e80e905c-b15e-477e-fbc7-5900a7f40298"
   },
   "outputs": [
    {
     "name": "stdout",
     "output_type": "stream",
     "text": [
      "54 77\n",
      "Index(['prtclcat', 'prtclcbe', 'prtclfch', 'prtcldcz', 'prtclede', 'prtclfee',\n",
      "       'prtclees', 'prtcldfi', 'prtclefr', 'prtclbgb', 'prtclfhu', 'prtcldie',\n",
      "       'prtcldil', 'prtclbis', 'prtclcit', 'prtclblt', 'prtclenl', 'prtclbno',\n",
      "       'prtclgpl', 'prtclept', 'prtcldru', 'prtclbse', 'prtclesi'],\n",
      "      dtype='object')\n",
      "(44387, 499)\n",
      "19 45\n",
      "Index(['prtvtbat', 'prtvtcbe', 'prtvtfch', 'prtvtdcz', 'prtvede1', 'prtvede2',\n",
      "       'prtvtfee', 'prtvtdes', 'prtvtdfi', 'prtvtcfr', 'prtvtbgb', 'prtvtehu',\n",
      "       'prtvtbie', 'prtvtcil', 'prtvtbis', 'prtvtbit', 'prtvblt1', 'prtvblt2',\n",
      "       'prtvblt3', 'prtvtfnl', 'prtvtbno', 'prtvtdpl', 'prtvtcpt', 'prtvtdru',\n",
      "       'prtvtbse', 'prtvtesi'],\n",
      "      dtype='object')\n",
      "(44387, 473)\n",
      "60 74\n",
      "Index(['rlgdnbat', 'rlgdnbe', 'rlgdnach', 'rlgdnade', 'rlgdnafi', 'rlgdngb',\n",
      "       'rlgdnhu', 'rlgdnie', 'rlgdnis', 'rlgdnlt', 'rlgdnnl', 'rlgdnno',\n",
      "       'rlgdnapl', 'rlgdnase'],\n",
      "      dtype='object')\n",
      "(44387, 459)\n",
      "62 76\n",
      "Index(['rlgdebat', 'rlgdebe', 'rlgdeach', 'rlgdeade', 'rlgdeafi', 'rlgdegb',\n",
      "       'rlgdehu', 'rlgdeie', 'rlgdeis', 'rlgdelt', 'rlgdenl', 'rlgdeno',\n",
      "       'rlgdeapl', 'rlgdease'],\n",
      "      dtype='object')\n",
      "(44387, 445)\n",
      "215 246\n",
      "Index(['edulvlb', 'eisced', 'edlveat', 'edlvebe', 'edlvdch', 'edlvdcz',\n",
      "       'edubde1', 'eduade2', 'eduade3', 'edlvdee', 'edlvges', 'edlvdfi',\n",
      "       'edlvdfr', 'edubgb1', 'eduagb2', 'edagegb', 'edlvdhu', 'edlvdie',\n",
      "       'edubil1', 'eduail2', 'edlvdis', 'edlvdit', 'edlvdlt', 'edlvenl',\n",
      "       'edlvdno', 'edlvepl', 'edupl2', 'edlvdpt', 'edlvdru', 'edlvdse',\n",
      "       'edlvesi'],\n",
      "      dtype='object')\n",
      "(44387, 414)\n",
      "259 288\n",
      "Index(['edlvpeat', 'edlvpebe', 'edlvpdch', 'edlvpdcz', 'edupbde1', 'edupade2',\n",
      "       'edupade3', 'edlvpdee', 'edlvpfes', 'edlvpdfi', 'edlvpdfr', 'edupbgb1',\n",
      "       'edupagb2', 'edagepgb', 'edlvpdhu', 'edlvpdie', 'edupbil1', 'edupail2',\n",
      "       'edlvpdis', 'edlvpdit', 'edlvpdlt', 'edlvpenl', 'edlvpdno', 'edlvpepl',\n",
      "       'eduppl2', 'edlvpdpt', 'edlvpdru', 'edlvpdse', 'edlvpesi'],\n",
      "      dtype='object')\n",
      "(44387, 385)\n",
      "257 258\n",
      "Index(['edulvlpb'], dtype='object')\n",
      "(44387, 384)\n",
      "280 308\n",
      "Index(['edlvfeat', 'edlvfebe', 'edlvfdch', 'edlvfdcz', 'edufbde1', 'edufade2',\n",
      "       'edufade3', 'edlvfdee', 'edlvffes', 'edlvfdfi', 'edlvfdfr', 'edufbgb1',\n",
      "       'edufagb2', 'edagefgb', 'edlvfdhu', 'edlvfdie', 'edufbil1', 'edufail2',\n",
      "       'edlvfdis', 'edlvfdit', 'edlvfdlt', 'edlvfenl', 'edlvfdno', 'edlvfepl',\n",
      "       'edlvfdpt', 'edlvfdru', 'edlvfdse', 'edlvfesi'],\n",
      "      dtype='object')\n",
      "(44387, 356)\n",
      "278 279\n",
      "Index(['edulvlfb'], dtype='object')\n",
      "(44387, 355)\n",
      "283 311\n",
      "Index(['edlvmeat', 'edlvmebe', 'edlvmdch', 'edlvmdcz', 'edumbde1', 'edumade2',\n",
      "       'edumade3', 'edlvmdee', 'edlvmfes', 'edlvmdfi', 'edlvmdfr', 'edumbgb1',\n",
      "       'edumagb2', 'edagemgb', 'edlvmdhu', 'edlvmdie', 'edumbil1', 'edumail2',\n",
      "       'edlvmdis', 'edlvmdit', 'edlvmdlt', 'edlvmenl', 'edlvmdno', 'edlvmepl',\n",
      "       'edlvmdpt', 'edlvmdru', 'edlvmdse', 'edlvmesi'],\n",
      "      dtype='object')\n",
      "(44387, 327)\n",
      "281 282\n",
      "Index(['edulvlmb'], dtype='object')\n",
      "(44387, 326)\n",
      "285 287\n",
      "Index(['anctry1', 'anctry2'], dtype='object')\n",
      "(44387, 324)\n",
      "306 324\n",
      "Index(['region', 'regunit', 'intewde', 'inwdds', 'inwmms', 'inwyys', 'inwshh',\n",
      "       'inwsmm', 'inwdde', 'inwmme', 'inwyye', 'inwehh', 'inwemm', 'inwtm',\n",
      "       'dweight', 'pspwght', 'pweight', 'anweight'],\n",
      "      dtype='object')\n",
      "(44387, 306)\n",
      "189 200\n",
      "Index(['rshipa2', 'rshipa3', 'rshipa4', 'rshipa5', 'rshipa6', 'rshipa7',\n",
      "       'rshipa8', 'rshipa9', 'rshipa10', 'rshipa11', 'rshipa12'],\n",
      "      dtype='object')\n",
      "(44387, 295)\n"
     ]
    }
   ],
   "source": [
    "#Variables explain which is the closest party individuals feel in each country\n",
    "drop_column_range(\"prtclcat\", \"prtclesi\")\n",
    "# These Variables explain which party individuals voted in each country\n",
    "drop_column_range(\"prtvtbat\", \"prtvtesi\")\n",
    "# These variables are country-related to religion. The effect is still captured by \"rlgdgr: How religious are you\", among others\n",
    "drop_column_range(\"rlgdnbat\", \"rlgdnase\")\n",
    "drop_column_range(\"rlgdebat\", \"rlgdease\")\n",
    "# Country-related educational levels captured by variables such as \"eduyrs: Years of full-time education completed\"\n",
    "drop_column_range(\"edulvlb\", \"edlvesi\")\n",
    "#Country-related educational levels of individuals' partners captured by variables such as \"eiscedp: Partner's highest level of education, ES - ISCED\"\n",
    "drop_column_range(\"edlvpeat\", \"edlvpesi\")\n",
    "#Another country-related educational variable related to individuals' partners\n",
    "drop_column_range(\"edulvlpb\", \"edulvlpb\")\n",
    "#Country-related educational levels of individuals' fathers captured by variables such as \"eiscedp: Partner's highest level of education, ES - ISCED\"\n",
    "drop_column_range(\"edlvfeat\", \"edlvfesi\")\n",
    "#Another country-related educational variable related to individuals' fathers\n",
    "drop_column_range(\"edulvlfb\", \"edulvlfb\")\n",
    "#Country-related educational levels of individuals' mothers captured by variables such as \"edulvlmb: Mother's highest level of education\"\n",
    "drop_column_range(\"edlvmeat\", \"edlvmesi\")\n",
    "#Another country-related educational variable related to individuals' mothers\n",
    "drop_column_range(\"edulvlmb\", \"edulvlmb\")\n",
    "#Also, more variables are dropped due to difficulties when interpreting or country-related variable (which is not the focus of  this research)\n",
    "drop_column_range(\"anctry1\",\"anctry2\")\n",
    "#Variables from \"Region\" variable on, there is only metainformation of the interviews that it is not useful\n",
    "drop_column_range(\"region\",\"anweight\")\n",
    "#REMAINS TO JUSTIFY (IT'S COMPLEX TO INTERPRET) Relationship with people living in the household\n",
    "drop_column_range(\"rshipa2\",\"rshipa12\")"
   ]
  },
  {
   "cell_type": "markdown",
   "id": "SpHuaiWIYH8w",
   "metadata": {
    "id": "SpHuaiWIYH8w"
   },
   "source": [
    "# Converting all the non-responses to NaN"
   ]
  },
  {
   "cell_type": "code",
   "execution_count": null,
   "id": "97e1e631-4fb1-4f1f-95a1-2407fe350abb",
   "metadata": {
    "id": "97e1e631-4fb1-4f1f-95a1-2407fe350abb"
   },
   "outputs": [],
   "source": [
    "list_4_digits = [ \"nwspol\", \"netustm\", \"livecnta\", 'yrbrn', 'yrbrn2', 'yrbrn3', 'yrbrn4', \"pdjobyr\", \"emplno\", \"njbspv\", \"wkhtotp\"]\n",
    "\n",
    "list_3_digits = [ \"agea\", \"wkhct\", \"wkhtot\"]\n",
    "\n",
    "list_2_digits = [ \"ppltrst\", \"pplfair\", \"pplhlp\", \"trstprl\", \"trstlgl\", \"trstplc\", \"trstplt\", \"trstprt\", \"trstep\", \"trstun\", \n",
    "                 \"lrscale\", \"stflife\", \"stfeco\", \"stfgov\", \"stfdem\", \"stfedu\", \"stfhlth\", \"euftf\", \"imbgeco\", \"imueclt\", \"imwbcnt\", \n",
    "                 \"happy\", \"sclmeet\", \"inprdsc\", \"atchctr\", \"atcherp\", \"rlgdnm\", \"rlgdnme\", \"rlgdgr\", \"rlgatnd\", \"pray\", \"eneffap\", \n",
    "                 \"rdcenr\", \"cflsenr\", \"elgcoal\", \"elgngas\", \"elghydr\", \"elgnuc\", \"elgsun\", \"elgwind\", \"elgbio\", \"ccnthum\", \"ccrdprs\",\n",
    "                 \"ccgdbd\", 'lkredcc', 'lklmten', 'gvsrdcc', 'ownrdcc', 'uemplwk', 'slvpens', 'slvuemp', 'gvslvol', 'gvslvue', 'gvcldcr', \n",
    "                 \"lkuemp\", 'vteurmmb', 'vteumbgb', 'vteubcmb', 'hhmmb', \"rshpsts\", \"rshpsfi\", \"rshpsgb\", 'marsts', 'marstfi', 'marstgb', \n",
    "                 'maritalb', \"eduyrs\", \"mainact\", \"mnactic\", \"wkdcorga\", \"iorgact\", \"hincsrca\", \"hinctnta\", \"mnactp\", \"eiscedf\", \"occf14b\",\n",
    "                 \"eiscedm\", \"occm14b\"]\n",
    "\n",
    "list_1_digits79 = [ \"netusoft\", \"polintr\", \"psppsgva\", \"actrolga\", \"psppipla\", \"cptppola\", \"vote\", \"contplt\", \"wrkprty\", \n",
    "                   \"wrkorg\", \"badge\", \"sgnptit\", \"pbldmn\", \"bctprd\", \"pstplonl\", \"pstplonl\", \"clsprty\", \"gincdif\", \"mnrgtjb\", \n",
    "                   \"freehms\", \"hmsfmlsh\", \"hmsacld\", \"imsmetn\", \"imdfetn\", \"impcntr\", \"sclact\", \"crmvct\", \"aesfdrk\", \"health\", \n",
    "                   \"hlthhmp\", \"rlgblg\", \"rlgblge\", \"dscrgrp\", \"ctzcntr\", \"brncntr\", \"blgetmg\", \"facntr\", \"mocntr\", \"gvrfgap\", \n",
    "                   \"rfgfrpc\", \"rfgbfml\", \"wrpwrct\", \"wrenexp\", \"wrdpimp\", \"wrdpfos\", \"wrntdis\", \"wrinspw\", 'wrtcfl', 'wrtratc', \n",
    "                   'clmchng', 'clmthgt1', 'clmthgt2', \"wrclmch\", \"inctxff\", 'sbsrnen', 'banhhap', 'dfincac', 'smdfslv', 'sbstrec', \n",
    "                   'sbprvpv', 'sbeqsoc', 'sbbsntx', 'sblazy', 'sblwcoa','imsclbn', 'uentrjb', 'lbenent', 'bennent', 'admub', 'ubpay', \n",
    "                   'ubedu','ubunp', 'ub50pay', 'ub50edu', 'ub50unp', 'ub20pay', 'ub20edu','ub20unp', 'ubsppay', 'ubspedu', 'ubspunp', \n",
    "                   'bnlwinc', 'eduunmp', 'wrkprbf', 'basinc', 'eusclbf', 'eudcnbf', \"lknemny\", \"gndr\", 'gndr2', 'gndr3', 'gndr4', 'gndr5',\n",
    "                   'gndr6', 'gndr7', 'gndr8', 'gndr9','gndr10', 'gndr11', 'gndr12', \"icpart1\", 'lvgptnea', 'dvrcdeva', 'icpart2', 'iccohbt', \n",
    "                   \"chldhm\", \"chldhhe\", \"domicil\", 'icpdwrk', 'crpdwk', 'pdjobev', \"emplrel\", 'wrkctra', 'estsz', 'jbspv', \"icwhct\", 'wrkac6m', \n",
    "                   'uemp3m', 'uemp12m', 'uemp5yr', 'mbtru', \"hincfel\", \"icpart3\", \"icomdnp\", \"icppdwk\", \"crpdwkp\", \"emprelp\", \"emprf14\", \"emprm14\", \n",
    "                   \"atncrse\", 'ipcrtiv', 'imprich', 'ipeqopt', 'ipshabt', 'impsafe', 'impdiff','ipfrule', 'ipudrst', 'ipmodst', \n",
    "                   'ipgdtim', 'impfree', 'iphlppl','ipsuces', 'ipstrgv', 'ipadvnt', 'ipbhprp', 'iprspot', 'iplylfr','impenv', 'imptrad', 'impfun']\n",
    "\n",
    "list_mark_or_not = [ \"dscrrce\", \"dscrntn\", \"dscrrlg\", \"dscrlng\", \"dscretn\", \"dscrage\", \"dscrgnd\", \"dscrsex\", \"dscrdsb\", \n",
    "                    \"dscroth\", \"dscrdk\", \"dscrref\", \"dscrnap\", \"dscrna\", 'pdwrk', 'edctn', 'uempla', 'uempli', 'dsbld', \n",
    "                    'rtrd', 'cmsrv', 'hswrk', 'dngoth', 'dngref', 'dngdk', 'dngna', 'pdwrkp', 'edctnp', 'uemplap', 'uemplip',\n",
    "                    'dsbldp', 'rtrdp', 'cmsrvp','hswrkp', 'dngothp', 'dngdkp', 'dngnapp', 'dngrefp', 'dngnap']\n"
   ]
  },
  {
   "cell_type": "code",
   "execution_count": null,
   "id": "d9401133-8a73-448f-bc48-d7eabd76454c",
   "metadata": {
    "id": "d9401133-8a73-448f-bc48-d7eabd76454c"
   },
   "outputs": [],
   "source": [
    "df[list_4_digits] = df[list_4_digits].replace([4444,5555,6666,66666,7777,77777,8888,88888,9999,99999], np.nan)\n",
    "df[list_3_digits] = df[list_3_digits].replace([555,666,777,888,999], np.nan)\n",
    "df[list_2_digits] = df[list_2_digits].replace([22,33,44,55,66,77,88,99], np.nan)"
   ]
  },
  {
   "cell_type": "code",
   "execution_count": null,
   "id": "f6cb4617-c22b-4613-80f2-209d85ad8aa3",
   "metadata": {
    "colab": {
     "base_uri": "https://localhost:8080/",
     "height": 487
    },
    "executionInfo": {
     "elapsed": 1030,
     "status": "ok",
     "timestamp": 1647298663793,
     "user": {
      "displayName": "Nazih Effendi",
      "photoUrl": "https://lh3.googleusercontent.com/a/default-user=s64",
      "userId": "12525088258719974037"
     },
     "user_tz": -60
    },
    "id": "f6cb4617-c22b-4613-80f2-209d85ad8aa3",
    "outputId": "b49f8faf-0954-431f-e7d1-3badcd2b0098"
   },
   "outputs": [
    {
     "data": {
      "text/html": [
       "\n",
       "  <div id=\"df-c809c4b7-c34f-4645-bc34-0072a7d25fde\">\n",
       "    <div class=\"colab-df-container\">\n",
       "      <div>\n",
       "<style scoped>\n",
       "    .dataframe tbody tr th:only-of-type {\n",
       "        vertical-align: middle;\n",
       "    }\n",
       "\n",
       "    .dataframe tbody tr th {\n",
       "        vertical-align: top;\n",
       "    }\n",
       "\n",
       "    .dataframe thead th {\n",
       "        text-align: right;\n",
       "    }\n",
       "</style>\n",
       "<table border=\"1\" class=\"dataframe\">\n",
       "  <thead>\n",
       "    <tr style=\"text-align: right;\">\n",
       "      <th></th>\n",
       "      <th>netusoft</th>\n",
       "      <th>polintr</th>\n",
       "      <th>psppsgva</th>\n",
       "      <th>actrolga</th>\n",
       "      <th>psppipla</th>\n",
       "      <th>cptppola</th>\n",
       "      <th>vote</th>\n",
       "      <th>contplt</th>\n",
       "      <th>wrkprty</th>\n",
       "      <th>wrkorg</th>\n",
       "      <th>...</th>\n",
       "      <th>iphlppl</th>\n",
       "      <th>ipsuces</th>\n",
       "      <th>ipstrgv</th>\n",
       "      <th>ipadvnt</th>\n",
       "      <th>ipbhprp</th>\n",
       "      <th>iprspot</th>\n",
       "      <th>iplylfr</th>\n",
       "      <th>impenv</th>\n",
       "      <th>imptrad</th>\n",
       "      <th>impfun</th>\n",
       "    </tr>\n",
       "  </thead>\n",
       "  <tbody>\n",
       "    <tr>\n",
       "      <th>0</th>\n",
       "      <td>4.0</td>\n",
       "      <td>1.0</td>\n",
       "      <td>2.0</td>\n",
       "      <td>2.0</td>\n",
       "      <td>2.0</td>\n",
       "      <td>3.0</td>\n",
       "      <td>3.0</td>\n",
       "      <td>2.0</td>\n",
       "      <td>2.0</td>\n",
       "      <td>2.0</td>\n",
       "      <td>...</td>\n",
       "      <td>1.0</td>\n",
       "      <td>2.0</td>\n",
       "      <td>6.0</td>\n",
       "      <td>3.0</td>\n",
       "      <td>6.0</td>\n",
       "      <td>1.0</td>\n",
       "      <td>1.0</td>\n",
       "      <td>1.0</td>\n",
       "      <td>6.0</td>\n",
       "      <td>3.0</td>\n",
       "    </tr>\n",
       "    <tr>\n",
       "      <th>1</th>\n",
       "      <td>5.0</td>\n",
       "      <td>1.0</td>\n",
       "      <td>1.0</td>\n",
       "      <td>3.0</td>\n",
       "      <td>2.0</td>\n",
       "      <td>3.0</td>\n",
       "      <td>3.0</td>\n",
       "      <td>1.0</td>\n",
       "      <td>1.0</td>\n",
       "      <td>2.0</td>\n",
       "      <td>...</td>\n",
       "      <td>3.0</td>\n",
       "      <td>3.0</td>\n",
       "      <td>4.0</td>\n",
       "      <td>5.0</td>\n",
       "      <td>5.0</td>\n",
       "      <td>2.0</td>\n",
       "      <td>2.0</td>\n",
       "      <td>2.0</td>\n",
       "      <td>5.0</td>\n",
       "      <td>5.0</td>\n",
       "    </tr>\n",
       "    <tr>\n",
       "      <th>2</th>\n",
       "      <td>2.0</td>\n",
       "      <td>3.0</td>\n",
       "      <td>2.0</td>\n",
       "      <td>2.0</td>\n",
       "      <td>2.0</td>\n",
       "      <td>2.0</td>\n",
       "      <td>1.0</td>\n",
       "      <td>2.0</td>\n",
       "      <td>2.0</td>\n",
       "      <td>1.0</td>\n",
       "      <td>...</td>\n",
       "      <td>3.0</td>\n",
       "      <td>6.0</td>\n",
       "      <td>1.0</td>\n",
       "      <td>6.0</td>\n",
       "      <td>3.0</td>\n",
       "      <td>3.0</td>\n",
       "      <td>1.0</td>\n",
       "      <td>2.0</td>\n",
       "      <td>2.0</td>\n",
       "      <td>3.0</td>\n",
       "    </tr>\n",
       "    <tr>\n",
       "      <th>3</th>\n",
       "      <td>5.0</td>\n",
       "      <td>2.0</td>\n",
       "      <td>3.0</td>\n",
       "      <td>2.0</td>\n",
       "      <td>3.0</td>\n",
       "      <td>4.0</td>\n",
       "      <td>NaN</td>\n",
       "      <td>2.0</td>\n",
       "      <td>2.0</td>\n",
       "      <td>2.0</td>\n",
       "      <td>...</td>\n",
       "      <td>3.0</td>\n",
       "      <td>3.0</td>\n",
       "      <td>2.0</td>\n",
       "      <td>3.0</td>\n",
       "      <td>4.0</td>\n",
       "      <td>2.0</td>\n",
       "      <td>2.0</td>\n",
       "      <td>3.0</td>\n",
       "      <td>2.0</td>\n",
       "      <td>2.0</td>\n",
       "    </tr>\n",
       "    <tr>\n",
       "      <th>4</th>\n",
       "      <td>5.0</td>\n",
       "      <td>3.0</td>\n",
       "      <td>3.0</td>\n",
       "      <td>3.0</td>\n",
       "      <td>4.0</td>\n",
       "      <td>1.0</td>\n",
       "      <td>2.0</td>\n",
       "      <td>2.0</td>\n",
       "      <td>2.0</td>\n",
       "      <td>2.0</td>\n",
       "      <td>...</td>\n",
       "      <td>1.0</td>\n",
       "      <td>3.0</td>\n",
       "      <td>4.0</td>\n",
       "      <td>5.0</td>\n",
       "      <td>2.0</td>\n",
       "      <td>3.0</td>\n",
       "      <td>1.0</td>\n",
       "      <td>1.0</td>\n",
       "      <td>4.0</td>\n",
       "      <td>1.0</td>\n",
       "    </tr>\n",
       "    <tr>\n",
       "      <th>...</th>\n",
       "      <td>...</td>\n",
       "      <td>...</td>\n",
       "      <td>...</td>\n",
       "      <td>...</td>\n",
       "      <td>...</td>\n",
       "      <td>...</td>\n",
       "      <td>...</td>\n",
       "      <td>...</td>\n",
       "      <td>...</td>\n",
       "      <td>...</td>\n",
       "      <td>...</td>\n",
       "      <td>...</td>\n",
       "      <td>...</td>\n",
       "      <td>...</td>\n",
       "      <td>...</td>\n",
       "      <td>...</td>\n",
       "      <td>...</td>\n",
       "      <td>...</td>\n",
       "      <td>...</td>\n",
       "      <td>...</td>\n",
       "      <td>...</td>\n",
       "    </tr>\n",
       "    <tr>\n",
       "      <th>44382</th>\n",
       "      <td>2.0</td>\n",
       "      <td>2.0</td>\n",
       "      <td>1.0</td>\n",
       "      <td>4.0</td>\n",
       "      <td>1.0</td>\n",
       "      <td>4.0</td>\n",
       "      <td>1.0</td>\n",
       "      <td>1.0</td>\n",
       "      <td>2.0</td>\n",
       "      <td>2.0</td>\n",
       "      <td>...</td>\n",
       "      <td>1.0</td>\n",
       "      <td>1.0</td>\n",
       "      <td>1.0</td>\n",
       "      <td>1.0</td>\n",
       "      <td>2.0</td>\n",
       "      <td>2.0</td>\n",
       "      <td>1.0</td>\n",
       "      <td>2.0</td>\n",
       "      <td>1.0</td>\n",
       "      <td>1.0</td>\n",
       "    </tr>\n",
       "    <tr>\n",
       "      <th>44383</th>\n",
       "      <td>5.0</td>\n",
       "      <td>2.0</td>\n",
       "      <td>2.0</td>\n",
       "      <td>2.0</td>\n",
       "      <td>1.0</td>\n",
       "      <td>2.0</td>\n",
       "      <td>3.0</td>\n",
       "      <td>2.0</td>\n",
       "      <td>2.0</td>\n",
       "      <td>2.0</td>\n",
       "      <td>...</td>\n",
       "      <td>1.0</td>\n",
       "      <td>1.0</td>\n",
       "      <td>1.0</td>\n",
       "      <td>4.0</td>\n",
       "      <td>1.0</td>\n",
       "      <td>2.0</td>\n",
       "      <td>1.0</td>\n",
       "      <td>1.0</td>\n",
       "      <td>1.0</td>\n",
       "      <td>2.0</td>\n",
       "    </tr>\n",
       "    <tr>\n",
       "      <th>44384</th>\n",
       "      <td>5.0</td>\n",
       "      <td>2.0</td>\n",
       "      <td>2.0</td>\n",
       "      <td>2.0</td>\n",
       "      <td>1.0</td>\n",
       "      <td>2.0</td>\n",
       "      <td>1.0</td>\n",
       "      <td>2.0</td>\n",
       "      <td>2.0</td>\n",
       "      <td>1.0</td>\n",
       "      <td>...</td>\n",
       "      <td>2.0</td>\n",
       "      <td>2.0</td>\n",
       "      <td>2.0</td>\n",
       "      <td>4.0</td>\n",
       "      <td>1.0</td>\n",
       "      <td>1.0</td>\n",
       "      <td>2.0</td>\n",
       "      <td>1.0</td>\n",
       "      <td>2.0</td>\n",
       "      <td>5.0</td>\n",
       "    </tr>\n",
       "    <tr>\n",
       "      <th>44385</th>\n",
       "      <td>5.0</td>\n",
       "      <td>3.0</td>\n",
       "      <td>2.0</td>\n",
       "      <td>5.0</td>\n",
       "      <td>2.0</td>\n",
       "      <td>5.0</td>\n",
       "      <td>1.0</td>\n",
       "      <td>2.0</td>\n",
       "      <td>2.0</td>\n",
       "      <td>2.0</td>\n",
       "      <td>...</td>\n",
       "      <td>1.0</td>\n",
       "      <td>1.0</td>\n",
       "      <td>1.0</td>\n",
       "      <td>2.0</td>\n",
       "      <td>3.0</td>\n",
       "      <td>1.0</td>\n",
       "      <td>3.0</td>\n",
       "      <td>2.0</td>\n",
       "      <td>4.0</td>\n",
       "      <td>1.0</td>\n",
       "    </tr>\n",
       "    <tr>\n",
       "      <th>44386</th>\n",
       "      <td>5.0</td>\n",
       "      <td>2.0</td>\n",
       "      <td>1.0</td>\n",
       "      <td>1.0</td>\n",
       "      <td>2.0</td>\n",
       "      <td>2.0</td>\n",
       "      <td>1.0</td>\n",
       "      <td>2.0</td>\n",
       "      <td>2.0</td>\n",
       "      <td>2.0</td>\n",
       "      <td>...</td>\n",
       "      <td>2.0</td>\n",
       "      <td>4.0</td>\n",
       "      <td>4.0</td>\n",
       "      <td>2.0</td>\n",
       "      <td>2.0</td>\n",
       "      <td>3.0</td>\n",
       "      <td>3.0</td>\n",
       "      <td>4.0</td>\n",
       "      <td>3.0</td>\n",
       "      <td>3.0</td>\n",
       "    </tr>\n",
       "  </tbody>\n",
       "</table>\n",
       "<p>44387 rows × 151 columns</p>\n",
       "</div>\n",
       "      <button class=\"colab-df-convert\" onclick=\"convertToInteractive('df-c809c4b7-c34f-4645-bc34-0072a7d25fde')\"\n",
       "              title=\"Convert this dataframe to an interactive table.\"\n",
       "              style=\"display:none;\">\n",
       "        \n",
       "  <svg xmlns=\"http://www.w3.org/2000/svg\" height=\"24px\"viewBox=\"0 0 24 24\"\n",
       "       width=\"24px\">\n",
       "    <path d=\"M0 0h24v24H0V0z\" fill=\"none\"/>\n",
       "    <path d=\"M18.56 5.44l.94 2.06.94-2.06 2.06-.94-2.06-.94-.94-2.06-.94 2.06-2.06.94zm-11 1L8.5 8.5l.94-2.06 2.06-.94-2.06-.94L8.5 2.5l-.94 2.06-2.06.94zm10 10l.94 2.06.94-2.06 2.06-.94-2.06-.94-.94-2.06-.94 2.06-2.06.94z\"/><path d=\"M17.41 7.96l-1.37-1.37c-.4-.4-.92-.59-1.43-.59-.52 0-1.04.2-1.43.59L10.3 9.45l-7.72 7.72c-.78.78-.78 2.05 0 2.83L4 21.41c.39.39.9.59 1.41.59.51 0 1.02-.2 1.41-.59l7.78-7.78 2.81-2.81c.8-.78.8-2.07 0-2.86zM5.41 20L4 18.59l7.72-7.72 1.47 1.35L5.41 20z\"/>\n",
       "  </svg>\n",
       "      </button>\n",
       "      \n",
       "  <style>\n",
       "    .colab-df-container {\n",
       "      display:flex;\n",
       "      flex-wrap:wrap;\n",
       "      gap: 12px;\n",
       "    }\n",
       "\n",
       "    .colab-df-convert {\n",
       "      background-color: #E8F0FE;\n",
       "      border: none;\n",
       "      border-radius: 50%;\n",
       "      cursor: pointer;\n",
       "      display: none;\n",
       "      fill: #1967D2;\n",
       "      height: 32px;\n",
       "      padding: 0 0 0 0;\n",
       "      width: 32px;\n",
       "    }\n",
       "\n",
       "    .colab-df-convert:hover {\n",
       "      background-color: #E2EBFA;\n",
       "      box-shadow: 0px 1px 2px rgba(60, 64, 67, 0.3), 0px 1px 3px 1px rgba(60, 64, 67, 0.15);\n",
       "      fill: #174EA6;\n",
       "    }\n",
       "\n",
       "    [theme=dark] .colab-df-convert {\n",
       "      background-color: #3B4455;\n",
       "      fill: #D2E3FC;\n",
       "    }\n",
       "\n",
       "    [theme=dark] .colab-df-convert:hover {\n",
       "      background-color: #434B5C;\n",
       "      box-shadow: 0px 1px 3px 1px rgba(0, 0, 0, 0.15);\n",
       "      filter: drop-shadow(0px 1px 2px rgba(0, 0, 0, 0.3));\n",
       "      fill: #FFFFFF;\n",
       "    }\n",
       "  </style>\n",
       "\n",
       "      <script>\n",
       "        const buttonEl =\n",
       "          document.querySelector('#df-c809c4b7-c34f-4645-bc34-0072a7d25fde button.colab-df-convert');\n",
       "        buttonEl.style.display =\n",
       "          google.colab.kernel.accessAllowed ? 'block' : 'none';\n",
       "\n",
       "        async function convertToInteractive(key) {\n",
       "          const element = document.querySelector('#df-c809c4b7-c34f-4645-bc34-0072a7d25fde');\n",
       "          const dataTable =\n",
       "            await google.colab.kernel.invokeFunction('convertToInteractive',\n",
       "                                                     [key], {});\n",
       "          if (!dataTable) return;\n",
       "\n",
       "          const docLinkHtml = 'Like what you see? Visit the ' +\n",
       "            '<a target=\"_blank\" href=https://colab.research.google.com/notebooks/data_table.ipynb>data table notebook</a>'\n",
       "            + ' to learn more about interactive tables.';\n",
       "          element.innerHTML = '';\n",
       "          dataTable['output_type'] = 'display_data';\n",
       "          await google.colab.output.renderOutput(dataTable, element);\n",
       "          const docLink = document.createElement('div');\n",
       "          docLink.innerHTML = docLinkHtml;\n",
       "          element.appendChild(docLink);\n",
       "        }\n",
       "      </script>\n",
       "    </div>\n",
       "  </div>\n",
       "  "
      ],
      "text/plain": [
       "       netusoft  polintr  psppsgva  actrolga  psppipla  cptppola  vote  \\\n",
       "0           4.0      1.0       2.0       2.0       2.0       3.0   3.0   \n",
       "1           5.0      1.0       1.0       3.0       2.0       3.0   3.0   \n",
       "2           2.0      3.0       2.0       2.0       2.0       2.0   1.0   \n",
       "3           5.0      2.0       3.0       2.0       3.0       4.0   NaN   \n",
       "4           5.0      3.0       3.0       3.0       4.0       1.0   2.0   \n",
       "...         ...      ...       ...       ...       ...       ...   ...   \n",
       "44382       2.0      2.0       1.0       4.0       1.0       4.0   1.0   \n",
       "44383       5.0      2.0       2.0       2.0       1.0       2.0   3.0   \n",
       "44384       5.0      2.0       2.0       2.0       1.0       2.0   1.0   \n",
       "44385       5.0      3.0       2.0       5.0       2.0       5.0   1.0   \n",
       "44386       5.0      2.0       1.0       1.0       2.0       2.0   1.0   \n",
       "\n",
       "       contplt  wrkprty  wrkorg  ...  iphlppl  ipsuces  ipstrgv  ipadvnt  \\\n",
       "0          2.0      2.0     2.0  ...      1.0      2.0      6.0      3.0   \n",
       "1          1.0      1.0     2.0  ...      3.0      3.0      4.0      5.0   \n",
       "2          2.0      2.0     1.0  ...      3.0      6.0      1.0      6.0   \n",
       "3          2.0      2.0     2.0  ...      3.0      3.0      2.0      3.0   \n",
       "4          2.0      2.0     2.0  ...      1.0      3.0      4.0      5.0   \n",
       "...        ...      ...     ...  ...      ...      ...      ...      ...   \n",
       "44382      1.0      2.0     2.0  ...      1.0      1.0      1.0      1.0   \n",
       "44383      2.0      2.0     2.0  ...      1.0      1.0      1.0      4.0   \n",
       "44384      2.0      2.0     1.0  ...      2.0      2.0      2.0      4.0   \n",
       "44385      2.0      2.0     2.0  ...      1.0      1.0      1.0      2.0   \n",
       "44386      2.0      2.0     2.0  ...      2.0      4.0      4.0      2.0   \n",
       "\n",
       "       ipbhprp  iprspot  iplylfr  impenv  imptrad  impfun  \n",
       "0          6.0      1.0      1.0     1.0      6.0     3.0  \n",
       "1          5.0      2.0      2.0     2.0      5.0     5.0  \n",
       "2          3.0      3.0      1.0     2.0      2.0     3.0  \n",
       "3          4.0      2.0      2.0     3.0      2.0     2.0  \n",
       "4          2.0      3.0      1.0     1.0      4.0     1.0  \n",
       "...        ...      ...      ...     ...      ...     ...  \n",
       "44382      2.0      2.0      1.0     2.0      1.0     1.0  \n",
       "44383      1.0      2.0      1.0     1.0      1.0     2.0  \n",
       "44384      1.0      1.0      2.0     1.0      2.0     5.0  \n",
       "44385      3.0      1.0      3.0     2.0      4.0     1.0  \n",
       "44386      2.0      3.0      3.0     4.0      3.0     3.0  \n",
       "\n",
       "[44387 rows x 151 columns]"
      ]
     },
     "execution_count": 14,
     "metadata": {},
     "output_type": "execute_result"
    }
   ],
   "source": [
    "df[list_1_digits79].replace([7,8,9], np.nan)"
   ]
  },
  {
   "cell_type": "code",
   "execution_count": null,
   "id": "rFt6pYDET5td",
   "metadata": {
    "colab": {
     "base_uri": "https://localhost:8080/"
    },
    "executionInfo": {
     "elapsed": 227,
     "status": "ok",
     "timestamp": 1647298669287,
     "user": {
      "displayName": "Nazih Effendi",
      "photoUrl": "https://lh3.googleusercontent.com/a/default-user=s64",
      "userId": "12525088258719974037"
     },
     "user_tz": -60
    },
    "id": "rFt6pYDET5td",
    "outputId": "bc78de88-cfc0-4e32-aeab-6f91f75074f3"
   },
   "outputs": [
    {
     "data": {
      "text/plain": [
       "1.0     5415\n",
       "2.0    15539\n",
       "3.0    15248\n",
       "4.0     8088\n",
       "Name: polintr, dtype: int64"
      ]
     },
     "execution_count": 15,
     "metadata": {},
     "output_type": "execute_result"
    }
   ],
   "source": [
    "# Checking to see if the missing values are converted to NaN's\n",
    "df[\"polintr\"].value_counts().sort_index()"
   ]
  },
  {
   "cell_type": "code",
   "execution_count": null,
   "id": "dc7673cb-59be-41b3-82ae-3b6374236c24",
   "metadata": {
    "colab": {
     "base_uri": "https://localhost:8080/"
    },
    "executionInfo": {
     "elapsed": 2,
     "status": "ok",
     "timestamp": 1647298671736,
     "user": {
      "displayName": "Nazih Effendi",
      "photoUrl": "https://lh3.googleusercontent.com/a/default-user=s64",
      "userId": "12525088258719974037"
     },
     "user_tz": -60
    },
    "id": "dc7673cb-59be-41b3-82ae-3b6374236c24",
    "outputId": "714b686e-209e-405d-bcb8-960b7f1d0de0"
   },
   "outputs": [
    {
     "data": {
      "text/plain": [
       "1.0    30815\n",
       "2.0     9417\n",
       "3.0     3687\n",
       "Name: vote, dtype: int64"
      ]
     },
     "execution_count": 16,
     "metadata": {},
     "output_type": "execute_result"
    }
   ],
   "source": [
    "# Checking to see if the missing values are converted to NaN's\n",
    "df[\"vote\"].value_counts()"
   ]
  },
  {
   "cell_type": "code",
   "execution_count": null,
   "id": "a5b58474-ab7c-43e1-a9c3-5eea70e275c5",
   "metadata": {
    "colab": {
     "base_uri": "https://localhost:8080/",
     "height": 440
    },
    "executionInfo": {
     "elapsed": 4102,
     "status": "ok",
     "timestamp": 1647298677322,
     "user": {
      "displayName": "Nazih Effendi",
      "photoUrl": "https://lh3.googleusercontent.com/a/default-user=s64",
      "userId": "12525088258719974037"
     },
     "user_tz": -60
    },
    "id": "a5b58474-ab7c-43e1-a9c3-5eea70e275c5",
    "outputId": "7b20f161-78f2-4a5e-bed9-0cc82253adcb"
   },
   "outputs": [
    {
     "data": {
      "image/png": "[encoded data removed]",
      "text/plain": [
       "<Figure size 1296x432 with 1 Axes>"
      ]
     },
     "metadata": {
      "needs_background": "light"
     },
     "output_type": "display_data"
    }
   ],
   "source": [
    "# Chart to observe missing values\n",
    "\n",
    "missing_values = pd.DataFrame((df.isnull().sum() / len(df))*100, columns = ['Prop'])\n",
    "missing_values = missing_values[missing_values > 0]\n",
    "missing_values.dropna(inplace=True)\n",
    "missing_values.sort_values(by='Prop', inplace=True, ascending=False)\n",
    "\n",
    "plt.figure(figsize = (18, 6))\n",
    "sns.set(style=\"whitegrid\", color_codes=True)\n",
    "sns.barplot(x = missing_values.index, y = missing_values['Prop'], data=missing_values)\n",
    "plt.xticks(rotation = 90)\n",
    "plt.ylabel(\"Proportion of Missing Values\")\n",
    "plt.title(\"Missing Values\")\n",
    "plt.show()"
   ]
  },
  {
   "cell_type": "code",
   "execution_count": null,
   "id": "759af6fe-fb1d-4a96-9a62-2c3620ce91e3",
   "metadata": {
    "colab": {
     "base_uri": "https://localhost:8080/"
    },
    "executionInfo": {
     "elapsed": 271,
     "status": "ok",
     "timestamp": 1647298677806,
     "user": {
      "displayName": "Nazih Effendi",
      "photoUrl": "https://lh3.googleusercontent.com/a/default-user=s64",
      "userId": "12525088258719974037"
     },
     "user_tz": -60
    },
    "id": "759af6fe-fb1d-4a96-9a62-2c3620ce91e3",
    "outputId": "8270131a-1e93-437d-fb12-0d1066167253"
   },
   "outputs": [
    {
     "data": {
      "text/plain": [
       "(44387, 266)"
      ]
     },
     "execution_count": 18,
     "metadata": {},
     "output_type": "execute_result"
    }
   ],
   "source": [
    "# Let's keep only the variables that have up to 30% of NaNs (missing values), as variables \n",
    "# with a larger proportion on NaN's would add \n",
    "# more 'noise' than 'signal' to the models, and require exponentially more computational power (for a personal computer). \n",
    "\n",
    "df = df.dropna(thresh = 0.7*len(df), axis = 1)\n",
    "df.shape"
   ]
  },
  {
   "cell_type": "code",
   "execution_count": null,
   "id": "TY5EjaBgbUf8",
   "metadata": {
    "colab": {
     "base_uri": "https://localhost:8080/"
    },
    "executionInfo": {
     "elapsed": 222,
     "status": "ok",
     "timestamp": 1647298680751,
     "user": {
      "displayName": "Nazih Effendi",
      "photoUrl": "https://lh3.googleusercontent.com/a/default-user=s64",
      "userId": "12525088258719974037"
     },
     "user_tz": -60
    },
    "id": "TY5EjaBgbUf8",
    "outputId": "b52a0b45-d1b4-4837-e7da-a08a7cbd48a6"
   },
   "outputs": [
    {
     "data": {
      "text/plain": [
       "(7440, 266)"
      ]
     },
     "execution_count": 19,
     "metadata": {},
     "output_type": "execute_result"
    }
   ],
   "source": [
    "# Dropping rows with NaN\n",
    "df.dropna(axis = 0, inplace = True)\n",
    "df.shape"
   ]
  },
  {
   "cell_type": "code",
   "execution_count": null,
   "id": "I-NvWT2BbqPn",
   "metadata": {
    "id": "I-NvWT2BbqPn"
   },
   "outputs": [],
   "source": [
    "# Making \"lrscale\" the first column\n",
    "col = df.pop(\"lrscale\")\n",
    "df.insert(0, col.name, col)"
   ]
  },
  {
   "cell_type": "code",
   "execution_count": null,
   "id": "_SivfZLyfw1J",
   "metadata": {
    "id": "_SivfZLyfw1J"
   },
   "outputs": [],
   "source": [
    "# Reducing the modalities of the dependent variable to improve interpretability\n",
    "df[\"lrscale\"] = df[\"lrscale\"].replace([0,1,2,3,4], 0)\n",
    "df[\"lrscale\"] = df[\"lrscale\"].replace([5], 1)\n",
    "df[\"lrscale\"] = df[\"lrscale\"].replace([6,7,8,9,10], 2)"
   ]
  },
  {
   "cell_type": "code",
   "execution_count": null,
   "id": "CTbetVOMf7vj",
   "metadata": {
    "colab": {
     "base_uri": "https://localhost:8080/"
    },
    "executionInfo": {
     "elapsed": 2,
     "status": "ok",
     "timestamp": 1647294037386,
     "user": {
      "displayName": "Nazih Effendi",
      "photoUrl": "https://lh3.googleusercontent.com/a/default-user=s64",
      "userId": "12525088258719974037"
     },
     "user_tz": -60
    },
    "id": "CTbetVOMf7vj",
    "outputId": "e27c4d9e-84fd-4580-a36d-489c746fe1e4"
   },
   "outputs": [
    {
     "data": {
      "text/plain": [
       "0.0    2468\n",
       "1.0    2310\n",
       "2.0    2662\n",
       "Name: lrscale, dtype: int64"
      ]
     },
     "execution_count": 21,
     "metadata": {},
     "output_type": "execute_result"
    }
   ],
   "source": [
    "# Another way to calculate the response profile and see how many observations each modality of the 'y' has\n",
    "df[\"lrscale\"].value_counts().sort_index()"
   ]
  },
  {
   "cell_type": "markdown",
   "id": "dTg3Wrrlv_DO",
   "metadata": {
    "id": "dTg3Wrrlv_DO"
   },
   "source": [
    "# Spearman Correlation"
   ]
  },
  {
   "cell_type": "code",
   "execution_count": null,
   "id": "ybPh6Dx4dYpS",
   "metadata": {
    "colab": {
     "base_uri": "https://localhost:8080/",
     "height": 487
    },
    "executionInfo": {
     "elapsed": 1958,
     "status": "ok",
     "timestamp": 1647298694139,
     "user": {
      "displayName": "Nazih Effendi",
      "photoUrl": "https://lh3.googleusercontent.com/a/default-user=s64",
      "userId": "12525088258719974037"
     },
     "user_tz": -60
    },
    "id": "ybPh6Dx4dYpS",
    "outputId": "336b39c5-11b1-4c3a-d7f8-13e85bf6fa2a"
   },
   "outputs": [
    {
     "data": {
      "text/html": [
       "\n",
       "  <div id=\"df-9e37b5ea-234f-44c7-ab8c-edf4a0184857\">\n",
       "    <div class=\"colab-df-container\">\n",
       "      <div>\n",
       "<style scoped>\n",
       "    .dataframe tbody tr th:only-of-type {\n",
       "        vertical-align: middle;\n",
       "    }\n",
       "\n",
       "    .dataframe tbody tr th {\n",
       "        vertical-align: top;\n",
       "    }\n",
       "\n",
       "    .dataframe thead th {\n",
       "        text-align: right;\n",
       "    }\n",
       "</style>\n",
       "<table border=\"1\" class=\"dataframe\">\n",
       "  <thead>\n",
       "    <tr style=\"text-align: right;\">\n",
       "      <th></th>\n",
       "      <th>lrscale</th>\n",
       "      <th>nwspol</th>\n",
       "      <th>netusoft</th>\n",
       "      <th>ppltrst</th>\n",
       "      <th>pplfair</th>\n",
       "      <th>pplhlp</th>\n",
       "      <th>polintr</th>\n",
       "      <th>psppsgva</th>\n",
       "      <th>actrolga</th>\n",
       "      <th>psppipla</th>\n",
       "      <th>...</th>\n",
       "      <th>iphlppl</th>\n",
       "      <th>ipsuces</th>\n",
       "      <th>ipstrgv</th>\n",
       "      <th>ipadvnt</th>\n",
       "      <th>ipbhprp</th>\n",
       "      <th>iprspot</th>\n",
       "      <th>iplylfr</th>\n",
       "      <th>impenv</th>\n",
       "      <th>imptrad</th>\n",
       "      <th>impfun</th>\n",
       "    </tr>\n",
       "  </thead>\n",
       "  <tbody>\n",
       "    <tr>\n",
       "      <th>lrscale</th>\n",
       "      <td>1.000000</td>\n",
       "      <td>0.024153</td>\n",
       "      <td>0.020029</td>\n",
       "      <td>0.011646</td>\n",
       "      <td>0.014710</td>\n",
       "      <td>0.035513</td>\n",
       "      <td>0.017777</td>\n",
       "      <td>0.002808</td>\n",
       "      <td>0.008296</td>\n",
       "      <td>0.007448</td>\n",
       "      <td>...</td>\n",
       "      <td>0.070226</td>\n",
       "      <td>0.041211</td>\n",
       "      <td>0.046749</td>\n",
       "      <td>0.043465</td>\n",
       "      <td>0.037686</td>\n",
       "      <td>0.038642</td>\n",
       "      <td>0.030986</td>\n",
       "      <td>0.077858</td>\n",
       "      <td>0.105457</td>\n",
       "      <td>0.028511</td>\n",
       "    </tr>\n",
       "    <tr>\n",
       "      <th>nwspol</th>\n",
       "      <td>0.024153</td>\n",
       "      <td>1.000000</td>\n",
       "      <td>0.094197</td>\n",
       "      <td>0.052989</td>\n",
       "      <td>0.018803</td>\n",
       "      <td>0.038731</td>\n",
       "      <td>0.330281</td>\n",
       "      <td>0.065344</td>\n",
       "      <td>0.147379</td>\n",
       "      <td>0.063980</td>\n",
       "      <td>...</td>\n",
       "      <td>0.009303</td>\n",
       "      <td>0.005254</td>\n",
       "      <td>0.039068</td>\n",
       "      <td>0.032583</td>\n",
       "      <td>0.054106</td>\n",
       "      <td>0.003693</td>\n",
       "      <td>0.022086</td>\n",
       "      <td>0.074679</td>\n",
       "      <td>0.061822</td>\n",
       "      <td>0.063219</td>\n",
       "    </tr>\n",
       "    <tr>\n",
       "      <th>netusoft</th>\n",
       "      <td>0.020029</td>\n",
       "      <td>0.094197</td>\n",
       "      <td>1.000000</td>\n",
       "      <td>0.143481</td>\n",
       "      <td>0.126511</td>\n",
       "      <td>0.072398</td>\n",
       "      <td>0.112652</td>\n",
       "      <td>0.144616</td>\n",
       "      <td>0.196987</td>\n",
       "      <td>0.203888</td>\n",
       "      <td>...</td>\n",
       "      <td>0.032681</td>\n",
       "      <td>0.007239</td>\n",
       "      <td>0.105027</td>\n",
       "      <td>0.106227</td>\n",
       "      <td>0.118885</td>\n",
       "      <td>0.074490</td>\n",
       "      <td>0.086790</td>\n",
       "      <td>0.038108</td>\n",
       "      <td>0.152908</td>\n",
       "      <td>0.139878</td>\n",
       "    </tr>\n",
       "    <tr>\n",
       "      <th>ppltrst</th>\n",
       "      <td>0.011646</td>\n",
       "      <td>0.052989</td>\n",
       "      <td>0.143481</td>\n",
       "      <td>1.000000</td>\n",
       "      <td>0.598977</td>\n",
       "      <td>0.476856</td>\n",
       "      <td>0.174940</td>\n",
       "      <td>0.227930</td>\n",
       "      <td>0.159721</td>\n",
       "      <td>0.276779</td>\n",
       "      <td>...</td>\n",
       "      <td>0.026286</td>\n",
       "      <td>0.082038</td>\n",
       "      <td>0.159775</td>\n",
       "      <td>0.016423</td>\n",
       "      <td>0.093550</td>\n",
       "      <td>0.100696</td>\n",
       "      <td>0.049799</td>\n",
       "      <td>0.054172</td>\n",
       "      <td>0.086144</td>\n",
       "      <td>0.005620</td>\n",
       "    </tr>\n",
       "    <tr>\n",
       "      <th>pplfair</th>\n",
       "      <td>0.014710</td>\n",
       "      <td>0.018803</td>\n",
       "      <td>0.126511</td>\n",
       "      <td>0.598977</td>\n",
       "      <td>1.000000</td>\n",
       "      <td>0.472370</td>\n",
       "      <td>0.156400</td>\n",
       "      <td>0.220207</td>\n",
       "      <td>0.125814</td>\n",
       "      <td>0.261368</td>\n",
       "      <td>...</td>\n",
       "      <td>0.041833</td>\n",
       "      <td>0.126027</td>\n",
       "      <td>0.138461</td>\n",
       "      <td>0.033973</td>\n",
       "      <td>0.081544</td>\n",
       "      <td>0.128331</td>\n",
       "      <td>0.067081</td>\n",
       "      <td>0.041976</td>\n",
       "      <td>0.082681</td>\n",
       "      <td>0.013236</td>\n",
       "    </tr>\n",
       "    <tr>\n",
       "      <th>...</th>\n",
       "      <td>...</td>\n",
       "      <td>...</td>\n",
       "      <td>...</td>\n",
       "      <td>...</td>\n",
       "      <td>...</td>\n",
       "      <td>...</td>\n",
       "      <td>...</td>\n",
       "      <td>...</td>\n",
       "      <td>...</td>\n",
       "      <td>...</td>\n",
       "      <td>...</td>\n",
       "      <td>...</td>\n",
       "      <td>...</td>\n",
       "      <td>...</td>\n",
       "      <td>...</td>\n",
       "      <td>...</td>\n",
       "      <td>...</td>\n",
       "      <td>...</td>\n",
       "      <td>...</td>\n",
       "      <td>...</td>\n",
       "      <td>...</td>\n",
       "    </tr>\n",
       "    <tr>\n",
       "      <th>iprspot</th>\n",
       "      <td>0.038642</td>\n",
       "      <td>0.003693</td>\n",
       "      <td>0.074490</td>\n",
       "      <td>0.100696</td>\n",
       "      <td>0.128331</td>\n",
       "      <td>0.079058</td>\n",
       "      <td>0.043893</td>\n",
       "      <td>0.028661</td>\n",
       "      <td>0.015585</td>\n",
       "      <td>0.044983</td>\n",
       "      <td>...</td>\n",
       "      <td>0.051180</td>\n",
       "      <td>0.441849</td>\n",
       "      <td>0.208315</td>\n",
       "      <td>0.151245</td>\n",
       "      <td>0.273196</td>\n",
       "      <td>1.000000</td>\n",
       "      <td>0.114765</td>\n",
       "      <td>0.101403</td>\n",
       "      <td>0.232931</td>\n",
       "      <td>0.130755</td>\n",
       "    </tr>\n",
       "    <tr>\n",
       "      <th>iplylfr</th>\n",
       "      <td>0.030986</td>\n",
       "      <td>0.022086</td>\n",
       "      <td>0.086790</td>\n",
       "      <td>0.049799</td>\n",
       "      <td>0.067081</td>\n",
       "      <td>0.024333</td>\n",
       "      <td>0.058200</td>\n",
       "      <td>0.020039</td>\n",
       "      <td>0.078877</td>\n",
       "      <td>0.049711</td>\n",
       "      <td>...</td>\n",
       "      <td>0.433210</td>\n",
       "      <td>0.090238</td>\n",
       "      <td>0.213415</td>\n",
       "      <td>0.056075</td>\n",
       "      <td>0.183599</td>\n",
       "      <td>0.114765</td>\n",
       "      <td>1.000000</td>\n",
       "      <td>0.307920</td>\n",
       "      <td>0.173477</td>\n",
       "      <td>0.222134</td>\n",
       "    </tr>\n",
       "    <tr>\n",
       "      <th>impenv</th>\n",
       "      <td>0.077858</td>\n",
       "      <td>0.074679</td>\n",
       "      <td>0.038108</td>\n",
       "      <td>0.054172</td>\n",
       "      <td>0.041976</td>\n",
       "      <td>0.014575</td>\n",
       "      <td>0.089617</td>\n",
       "      <td>0.018437</td>\n",
       "      <td>0.071762</td>\n",
       "      <td>0.006375</td>\n",
       "      <td>...</td>\n",
       "      <td>0.309989</td>\n",
       "      <td>0.109277</td>\n",
       "      <td>0.254671</td>\n",
       "      <td>0.053519</td>\n",
       "      <td>0.208296</td>\n",
       "      <td>0.101403</td>\n",
       "      <td>0.307920</td>\n",
       "      <td>1.000000</td>\n",
       "      <td>0.237044</td>\n",
       "      <td>0.107434</td>\n",
       "    </tr>\n",
       "    <tr>\n",
       "      <th>imptrad</th>\n",
       "      <td>0.105457</td>\n",
       "      <td>0.061822</td>\n",
       "      <td>0.152908</td>\n",
       "      <td>0.086144</td>\n",
       "      <td>0.082681</td>\n",
       "      <td>0.043537</td>\n",
       "      <td>0.051807</td>\n",
       "      <td>0.068718</td>\n",
       "      <td>0.082534</td>\n",
       "      <td>0.087115</td>\n",
       "      <td>...</td>\n",
       "      <td>0.213128</td>\n",
       "      <td>0.179432</td>\n",
       "      <td>0.285705</td>\n",
       "      <td>0.030745</td>\n",
       "      <td>0.288120</td>\n",
       "      <td>0.232931</td>\n",
       "      <td>0.173477</td>\n",
       "      <td>0.237044</td>\n",
       "      <td>1.000000</td>\n",
       "      <td>0.116010</td>\n",
       "    </tr>\n",
       "    <tr>\n",
       "      <th>impfun</th>\n",
       "      <td>0.028511</td>\n",
       "      <td>0.063219</td>\n",
       "      <td>0.139878</td>\n",
       "      <td>0.005620</td>\n",
       "      <td>0.013236</td>\n",
       "      <td>0.023139</td>\n",
       "      <td>0.023203</td>\n",
       "      <td>0.025677</td>\n",
       "      <td>0.034182</td>\n",
       "      <td>0.036439</td>\n",
       "      <td>...</td>\n",
       "      <td>0.203866</td>\n",
       "      <td>0.211428</td>\n",
       "      <td>0.110796</td>\n",
       "      <td>0.399820</td>\n",
       "      <td>0.047394</td>\n",
       "      <td>0.130755</td>\n",
       "      <td>0.222134</td>\n",
       "      <td>0.107434</td>\n",
       "      <td>0.116010</td>\n",
       "      <td>1.000000</td>\n",
       "    </tr>\n",
       "  </tbody>\n",
       "</table>\n",
       "<p>266 rows × 266 columns</p>\n",
       "</div>\n",
       "      <button class=\"colab-df-convert\" onclick=\"convertToInteractive('df-9e37b5ea-234f-44c7-ab8c-edf4a0184857')\"\n",
       "              title=\"Convert this dataframe to an interactive table.\"\n",
       "              style=\"display:none;\">\n",
       "        \n",
       "  <svg xmlns=\"http://www.w3.org/2000/svg\" height=\"24px\"viewBox=\"0 0 24 24\"\n",
       "       width=\"24px\">\n",
       "    <path d=\"M0 0h24v24H0V0z\" fill=\"none\"/>\n",
       "    <path d=\"M18.56 5.44l.94 2.06.94-2.06 2.06-.94-2.06-.94-.94-2.06-.94 2.06-2.06.94zm-11 1L8.5 8.5l.94-2.06 2.06-.94-2.06-.94L8.5 2.5l-.94 2.06-2.06.94zm10 10l.94 2.06.94-2.06 2.06-.94-2.06-.94-.94-2.06-.94 2.06-2.06.94z\"/><path d=\"M17.41 7.96l-1.37-1.37c-.4-.4-.92-.59-1.43-.59-.52 0-1.04.2-1.43.59L10.3 9.45l-7.72 7.72c-.78.78-.78 2.05 0 2.83L4 21.41c.39.39.9.59 1.41.59.51 0 1.02-.2 1.41-.59l7.78-7.78 2.81-2.81c.8-.78.8-2.07 0-2.86zM5.41 20L4 18.59l7.72-7.72 1.47 1.35L5.41 20z\"/>\n",
       "  </svg>\n",
       "      </button>\n",
       "      \n",
       "  <style>\n",
       "    .colab-df-container {\n",
       "      display:flex;\n",
       "      flex-wrap:wrap;\n",
       "      gap: 12px;\n",
       "    }\n",
       "\n",
       "    .colab-df-convert {\n",
       "      background-color: #E8F0FE;\n",
       "      border: none;\n",
       "      border-radius: 50%;\n",
       "      cursor: pointer;\n",
       "      display: none;\n",
       "      fill: #1967D2;\n",
       "      height: 32px;\n",
       "      padding: 0 0 0 0;\n",
       "      width: 32px;\n",
       "    }\n",
       "\n",
       "    .colab-df-convert:hover {\n",
       "      background-color: #E2EBFA;\n",
       "      box-shadow: 0px 1px 2px rgba(60, 64, 67, 0.3), 0px 1px 3px 1px rgba(60, 64, 67, 0.15);\n",
       "      fill: #174EA6;\n",
       "    }\n",
       "\n",
       "    [theme=dark] .colab-df-convert {\n",
       "      background-color: #3B4455;\n",
       "      fill: #D2E3FC;\n",
       "    }\n",
       "\n",
       "    [theme=dark] .colab-df-convert:hover {\n",
       "      background-color: #434B5C;\n",
       "      box-shadow: 0px 1px 3px 1px rgba(0, 0, 0, 0.15);\n",
       "      filter: drop-shadow(0px 1px 2px rgba(0, 0, 0, 0.3));\n",
       "      fill: #FFFFFF;\n",
       "    }\n",
       "  </style>\n",
       "\n",
       "      <script>\n",
       "        const buttonEl =\n",
       "          document.querySelector('#df-9e37b5ea-234f-44c7-ab8c-edf4a0184857 button.colab-df-convert');\n",
       "        buttonEl.style.display =\n",
       "          google.colab.kernel.accessAllowed ? 'block' : 'none';\n",
       "\n",
       "        async function convertToInteractive(key) {\n",
       "          const element = document.querySelector('#df-9e37b5ea-234f-44c7-ab8c-edf4a0184857');\n",
       "          const dataTable =\n",
       "            await google.colab.kernel.invokeFunction('convertToInteractive',\n",
       "                                                     [key], {});\n",
       "          if (!dataTable) return;\n",
       "\n",
       "          const docLinkHtml = 'Like what you see? Visit the ' +\n",
       "            '<a target=\"_blank\" href=https://colab.research.google.com/notebooks/data_table.ipynb>data table notebook</a>'\n",
       "            + ' to learn more about interactive tables.';\n",
       "          element.innerHTML = '';\n",
       "          dataTable['output_type'] = 'display_data';\n",
       "          await google.colab.output.renderOutput(dataTable, element);\n",
       "          const docLink = document.createElement('div');\n",
       "          docLink.innerHTML = docLinkHtml;\n",
       "          element.appendChild(docLink);\n",
       "        }\n",
       "      </script>\n",
       "    </div>\n",
       "  </div>\n",
       "  "
      ],
      "text/plain": [
       "           lrscale    nwspol  netusoft   ppltrst   pplfair    pplhlp  \\\n",
       "lrscale   1.000000  0.024153  0.020029  0.011646  0.014710  0.035513   \n",
       "nwspol    0.024153  1.000000  0.094197  0.052989  0.018803  0.038731   \n",
       "netusoft  0.020029  0.094197  1.000000  0.143481  0.126511  0.072398   \n",
       "ppltrst   0.011646  0.052989  0.143481  1.000000  0.598977  0.476856   \n",
       "pplfair   0.014710  0.018803  0.126511  0.598977  1.000000  0.472370   \n",
       "...            ...       ...       ...       ...       ...       ...   \n",
       "iprspot   0.038642  0.003693  0.074490  0.100696  0.128331  0.079058   \n",
       "iplylfr   0.030986  0.022086  0.086790  0.049799  0.067081  0.024333   \n",
       "impenv    0.077858  0.074679  0.038108  0.054172  0.041976  0.014575   \n",
       "imptrad   0.105457  0.061822  0.152908  0.086144  0.082681  0.043537   \n",
       "impfun    0.028511  0.063219  0.139878  0.005620  0.013236  0.023139   \n",
       "\n",
       "           polintr  psppsgva  actrolga  psppipla  ...   iphlppl   ipsuces  \\\n",
       "lrscale   0.017777  0.002808  0.008296  0.007448  ...  0.070226  0.041211   \n",
       "nwspol    0.330281  0.065344  0.147379  0.063980  ...  0.009303  0.005254   \n",
       "netusoft  0.112652  0.144616  0.196987  0.203888  ...  0.032681  0.007239   \n",
       "ppltrst   0.174940  0.227930  0.159721  0.276779  ...  0.026286  0.082038   \n",
       "pplfair   0.156400  0.220207  0.125814  0.261368  ...  0.041833  0.126027   \n",
       "...            ...       ...       ...       ...  ...       ...       ...   \n",
       "iprspot   0.043893  0.028661  0.015585  0.044983  ...  0.051180  0.441849   \n",
       "iplylfr   0.058200  0.020039  0.078877  0.049711  ...  0.433210  0.090238   \n",
       "impenv    0.089617  0.018437  0.071762  0.006375  ...  0.309989  0.109277   \n",
       "imptrad   0.051807  0.068718  0.082534  0.087115  ...  0.213128  0.179432   \n",
       "impfun    0.023203  0.025677  0.034182  0.036439  ...  0.203866  0.211428   \n",
       "\n",
       "           ipstrgv   ipadvnt   ipbhprp   iprspot   iplylfr    impenv  \\\n",
       "lrscale   0.046749  0.043465  0.037686  0.038642  0.030986  0.077858   \n",
       "nwspol    0.039068  0.032583  0.054106  0.003693  0.022086  0.074679   \n",
       "netusoft  0.105027  0.106227  0.118885  0.074490  0.086790  0.038108   \n",
       "ppltrst   0.159775  0.016423  0.093550  0.100696  0.049799  0.054172   \n",
       "pplfair   0.138461  0.033973  0.081544  0.128331  0.067081  0.041976   \n",
       "...            ...       ...       ...       ...       ...       ...   \n",
       "iprspot   0.208315  0.151245  0.273196  1.000000  0.114765  0.101403   \n",
       "iplylfr   0.213415  0.056075  0.183599  0.114765  1.000000  0.307920   \n",
       "impenv    0.254671  0.053519  0.208296  0.101403  0.307920  1.000000   \n",
       "imptrad   0.285705  0.030745  0.288120  0.232931  0.173477  0.237044   \n",
       "impfun    0.110796  0.399820  0.047394  0.130755  0.222134  0.107434   \n",
       "\n",
       "           imptrad    impfun  \n",
       "lrscale   0.105457  0.028511  \n",
       "nwspol    0.061822  0.063219  \n",
       "netusoft  0.152908  0.139878  \n",
       "ppltrst   0.086144  0.005620  \n",
       "pplfair   0.082681  0.013236  \n",
       "...            ...       ...  \n",
       "iprspot   0.232931  0.130755  \n",
       "iplylfr   0.173477  0.222134  \n",
       "impenv    0.237044  0.107434  \n",
       "imptrad   1.000000  0.116010  \n",
       "impfun    0.116010  1.000000  \n",
       "\n",
       "[266 rows x 266 columns]"
      ]
     },
     "execution_count": 22,
     "metadata": {},
     "output_type": "execute_result"
    }
   ],
   "source": [
    "# We get the top explanatory variables, measured by the spearman correlation coefficient\n",
    "data_corr = df.corr(method = \"spearman\").abs()\n",
    "data_corr"
   ]
  },
  {
   "cell_type": "markdown",
   "id": "GXd5cI4Gnjn8",
   "metadata": {
    "id": "GXd5cI4Gnjn8"
   },
   "source": [
    "# Taking the top 20 correlated variables based on Spearman Correlation\n"
   ]
  },
  {
   "cell_type": "code",
   "execution_count": null,
   "id": "yVaYgjIudvJd",
   "metadata": {
    "colab": {
     "base_uri": "https://localhost:8080/"
    },
    "executionInfo": {
     "elapsed": 221,
     "status": "ok",
     "timestamp": 1647298695385,
     "user": {
      "displayName": "Nazih Effendi",
      "photoUrl": "https://lh3.googleusercontent.com/a/default-user=s64",
      "userId": "12525088258719974037"
     },
     "user_tz": -60
    },
    "id": "yVaYgjIudvJd",
    "outputId": "6ee490a0-2249-48e6-c238-620f51a6b4d9"
   },
   "outputs": [
    {
     "data": {
      "text/plain": [
       "gincdif    0.215089\n",
       "sbbsntx    0.213237\n",
       "dfincac    0.191634\n",
       "smdfslv    0.187716\n",
       "sbstrec    0.182698\n",
       "ipeqopt    0.174290\n",
       "impcntr    0.166459\n",
       "elgnuc     0.166421\n",
       "sblazy     0.164157\n",
       "imdfetn    0.163678\n",
       "hmsacld    0.163340\n",
       "gvrfgap    0.163207\n",
       "eusclbf    0.161492\n",
       "wrclmch    0.151499\n",
       "pbldmn     0.149359\n",
       "imprich    0.145580\n",
       "imueclt    0.141344\n",
       "imsmetn    0.139749\n",
       "ccgdbd     0.137019\n",
       "rlgdgr     0.132493\n",
       "Name: lrscale, dtype: float64"
      ]
     },
     "execution_count": 23,
     "metadata": {},
     "output_type": "execute_result"
    }
   ],
   "source": [
    "top_variables = data_corr.iloc[1:,0].sort_values(ascending=False).head(20)\n",
    "top_variables"
   ]
  },
  {
   "cell_type": "code",
   "execution_count": null,
   "id": "A-E3H2QCejdk",
   "metadata": {
    "colab": {
     "base_uri": "https://localhost:8080/"
    },
    "executionInfo": {
     "elapsed": 250,
     "status": "ok",
     "timestamp": 1647298700450,
     "user": {
      "displayName": "Nazih Effendi",
      "photoUrl": "https://lh3.googleusercontent.com/a/default-user=s64",
      "userId": "12525088258719974037"
     },
     "user_tz": -60
    },
    "id": "A-E3H2QCejdk",
    "outputId": "a22b0f87-893c-4fee-8327-fed907b79067"
   },
   "outputs": [
    {
     "data": {
      "text/plain": [
       "(7440, 21)"
      ]
     },
     "execution_count": 24,
     "metadata": {},
     "output_type": "execute_result"
    }
   ],
   "source": [
    "# Created a new data set 'data_5' using a for loop, made to filter only the dependent and the top 20 selected explanatory variables. \n",
    "\n",
    "list = [\"lrscale\"]\n",
    "for row in top_variables.index:\n",
    "    list.append(row)\n",
    "\n",
    "data_5 = pd.DataFrame(df.loc[:, list])\n",
    "data_5.shape"
   ]
  },
  {
   "cell_type": "code",
   "execution_count": null,
   "id": "jPL__ET0gqj_",
   "metadata": {
    "colab": {
     "base_uri": "https://localhost:8080/"
    },
    "executionInfo": {
     "elapsed": 216,
     "status": "ok",
     "timestamp": 1647298702069,
     "user": {
      "displayName": "Nazih Effendi",
      "photoUrl": "https://lh3.googleusercontent.com/a/default-user=s64",
      "userId": "12525088258719974037"
     },
     "user_tz": -60
    },
    "id": "jPL__ET0gqj_",
    "outputId": "d2e0513f-31fe-4e93-98f8-2182a4f8e479"
   },
   "outputs": [
    {
     "data": {
      "text/plain": [
       "(7440, 21)"
      ]
     },
     "execution_count": 25,
     "metadata": {},
     "output_type": "execute_result"
    }
   ],
   "source": [
    "# Another filtering process that consisted in filtering all the variables that have too much correlation among each other. \n",
    "# To do this, a new correlation matrix was created among the new data set, selected the upper triangle matrix, \n",
    "# and dropped the variables that have more than 80% of correlation with other explanatory one.\n",
    "# In this case, none of them got dropped out.\n",
    "\n",
    "data_5_corr = data_5.corr(method = \"spearman\").abs()\n",
    "upper = data_5_corr.where(np.triu(np.ones(data_5_corr.shape), k=1).astype(np.bool))\n",
    "to_drop = [column for column in upper.columns if any(upper[column] > 0.80)]\n",
    "data_6 = data_5.drop(to_drop, axis=1)\n",
    "data_6.shape"
   ]
  },
  {
   "cell_type": "markdown",
   "id": "7K6AcMVywQHY",
   "metadata": {
    "id": "7K6AcMVywQHY"
   },
   "source": [
    "# Adding control variables to the data"
   ]
  },
  {
   "cell_type": "code",
   "execution_count": null,
   "id": "gnl3OQHFbz6d",
   "metadata": {
    "colab": {
     "base_uri": "https://localhost:8080/",
     "height": 487
    },
    "executionInfo": {
     "elapsed": 225,
     "status": "ok",
     "timestamp": 1647298705342,
     "user": {
      "displayName": "Nazih Effendi",
      "photoUrl": "https://lh3.googleusercontent.com/a/default-user=s64",
      "userId": "12525088258719974037"
     },
     "user_tz": -60
    },
    "id": "gnl3OQHFbz6d",
    "outputId": "be30c8b8-bdb3-486d-c638-858806e74982"
   },
   "outputs": [
    {
     "data": {
      "text/html": [
       "\n",
       "  <div id=\"df-616806f9-0261-4c96-861b-f4191d2abfe2\">\n",
       "    <div class=\"colab-df-container\">\n",
       "      <div>\n",
       "<style scoped>\n",
       "    .dataframe tbody tr th:only-of-type {\n",
       "        vertical-align: middle;\n",
       "    }\n",
       "\n",
       "    .dataframe tbody tr th {\n",
       "        vertical-align: top;\n",
       "    }\n",
       "\n",
       "    .dataframe thead th {\n",
       "        text-align: right;\n",
       "    }\n",
       "</style>\n",
       "<table border=\"1\" class=\"dataframe\">\n",
       "  <thead>\n",
       "    <tr style=\"text-align: right;\">\n",
       "      <th></th>\n",
       "      <th>lrscale</th>\n",
       "      <th>gincdif</th>\n",
       "      <th>sbbsntx</th>\n",
       "      <th>dfincac</th>\n",
       "      <th>smdfslv</th>\n",
       "      <th>sbstrec</th>\n",
       "      <th>ipeqopt</th>\n",
       "      <th>impcntr</th>\n",
       "      <th>elgnuc</th>\n",
       "      <th>sblazy</th>\n",
       "      <th>...</th>\n",
       "      <th>imprich</th>\n",
       "      <th>imueclt</th>\n",
       "      <th>imsmetn</th>\n",
       "      <th>ccgdbd</th>\n",
       "      <th>rlgdgr</th>\n",
       "      <th>eduyrs</th>\n",
       "      <th>agea</th>\n",
       "      <th>gndr</th>\n",
       "      <th>hinctnta</th>\n",
       "      <th>blgetmg</th>\n",
       "    </tr>\n",
       "  </thead>\n",
       "  <tbody>\n",
       "    <tr>\n",
       "      <th>2010</th>\n",
       "      <td>0.0</td>\n",
       "      <td>2</td>\n",
       "      <td>3</td>\n",
       "      <td>4</td>\n",
       "      <td>2</td>\n",
       "      <td>3</td>\n",
       "      <td>2</td>\n",
       "      <td>3</td>\n",
       "      <td>5.0</td>\n",
       "      <td>2</td>\n",
       "      <td>...</td>\n",
       "      <td>4</td>\n",
       "      <td>5.0</td>\n",
       "      <td>3</td>\n",
       "      <td>3.0</td>\n",
       "      <td>5.0</td>\n",
       "      <td>13.0</td>\n",
       "      <td>46.0</td>\n",
       "      <td>2</td>\n",
       "      <td>7.0</td>\n",
       "      <td>2</td>\n",
       "    </tr>\n",
       "    <tr>\n",
       "      <th>2015</th>\n",
       "      <td>2.0</td>\n",
       "      <td>2</td>\n",
       "      <td>3</td>\n",
       "      <td>2</td>\n",
       "      <td>4</td>\n",
       "      <td>3</td>\n",
       "      <td>4</td>\n",
       "      <td>3</td>\n",
       "      <td>5.0</td>\n",
       "      <td>2</td>\n",
       "      <td>...</td>\n",
       "      <td>3</td>\n",
       "      <td>0.0</td>\n",
       "      <td>2</td>\n",
       "      <td>2.0</td>\n",
       "      <td>5.0</td>\n",
       "      <td>12.0</td>\n",
       "      <td>72.0</td>\n",
       "      <td>1</td>\n",
       "      <td>5.0</td>\n",
       "      <td>2</td>\n",
       "    </tr>\n",
       "    <tr>\n",
       "      <th>2016</th>\n",
       "      <td>1.0</td>\n",
       "      <td>2</td>\n",
       "      <td>4</td>\n",
       "      <td>4</td>\n",
       "      <td>3</td>\n",
       "      <td>4</td>\n",
       "      <td>2</td>\n",
       "      <td>1</td>\n",
       "      <td>3.0</td>\n",
       "      <td>3</td>\n",
       "      <td>...</td>\n",
       "      <td>5</td>\n",
       "      <td>8.0</td>\n",
       "      <td>1</td>\n",
       "      <td>2.0</td>\n",
       "      <td>6.0</td>\n",
       "      <td>18.0</td>\n",
       "      <td>27.0</td>\n",
       "      <td>2</td>\n",
       "      <td>7.0</td>\n",
       "      <td>2</td>\n",
       "    </tr>\n",
       "    <tr>\n",
       "      <th>2020</th>\n",
       "      <td>1.0</td>\n",
       "      <td>2</td>\n",
       "      <td>3</td>\n",
       "      <td>4</td>\n",
       "      <td>4</td>\n",
       "      <td>2</td>\n",
       "      <td>2</td>\n",
       "      <td>3</td>\n",
       "      <td>4.0</td>\n",
       "      <td>4</td>\n",
       "      <td>...</td>\n",
       "      <td>4</td>\n",
       "      <td>5.0</td>\n",
       "      <td>3</td>\n",
       "      <td>2.0</td>\n",
       "      <td>9.0</td>\n",
       "      <td>16.0</td>\n",
       "      <td>42.0</td>\n",
       "      <td>2</td>\n",
       "      <td>9.0</td>\n",
       "      <td>2</td>\n",
       "    </tr>\n",
       "    <tr>\n",
       "      <th>2025</th>\n",
       "      <td>2.0</td>\n",
       "      <td>2</td>\n",
       "      <td>2</td>\n",
       "      <td>2</td>\n",
       "      <td>4</td>\n",
       "      <td>4</td>\n",
       "      <td>5</td>\n",
       "      <td>2</td>\n",
       "      <td>3.0</td>\n",
       "      <td>2</td>\n",
       "      <td>...</td>\n",
       "      <td>5</td>\n",
       "      <td>3.0</td>\n",
       "      <td>1</td>\n",
       "      <td>7.0</td>\n",
       "      <td>6.0</td>\n",
       "      <td>14.0</td>\n",
       "      <td>48.0</td>\n",
       "      <td>2</td>\n",
       "      <td>7.0</td>\n",
       "      <td>2</td>\n",
       "    </tr>\n",
       "    <tr>\n",
       "      <th>...</th>\n",
       "      <td>...</td>\n",
       "      <td>...</td>\n",
       "      <td>...</td>\n",
       "      <td>...</td>\n",
       "      <td>...</td>\n",
       "      <td>...</td>\n",
       "      <td>...</td>\n",
       "      <td>...</td>\n",
       "      <td>...</td>\n",
       "      <td>...</td>\n",
       "      <td>...</td>\n",
       "      <td>...</td>\n",
       "      <td>...</td>\n",
       "      <td>...</td>\n",
       "      <td>...</td>\n",
       "      <td>...</td>\n",
       "      <td>...</td>\n",
       "      <td>...</td>\n",
       "      <td>...</td>\n",
       "      <td>...</td>\n",
       "      <td>...</td>\n",
       "    </tr>\n",
       "    <tr>\n",
       "      <th>44374</th>\n",
       "      <td>1.0</td>\n",
       "      <td>3</td>\n",
       "      <td>2</td>\n",
       "      <td>2</td>\n",
       "      <td>3</td>\n",
       "      <td>2</td>\n",
       "      <td>1</td>\n",
       "      <td>1</td>\n",
       "      <td>3.0</td>\n",
       "      <td>3</td>\n",
       "      <td>...</td>\n",
       "      <td>3</td>\n",
       "      <td>8.0</td>\n",
       "      <td>1</td>\n",
       "      <td>4.0</td>\n",
       "      <td>4.0</td>\n",
       "      <td>16.0</td>\n",
       "      <td>45.0</td>\n",
       "      <td>1</td>\n",
       "      <td>8.0</td>\n",
       "      <td>2</td>\n",
       "    </tr>\n",
       "    <tr>\n",
       "      <th>44375</th>\n",
       "      <td>1.0</td>\n",
       "      <td>1</td>\n",
       "      <td>1</td>\n",
       "      <td>5</td>\n",
       "      <td>1</td>\n",
       "      <td>3</td>\n",
       "      <td>1</td>\n",
       "      <td>4</td>\n",
       "      <td>3.0</td>\n",
       "      <td>2</td>\n",
       "      <td>...</td>\n",
       "      <td>3</td>\n",
       "      <td>5.0</td>\n",
       "      <td>1</td>\n",
       "      <td>0.0</td>\n",
       "      <td>9.0</td>\n",
       "      <td>12.0</td>\n",
       "      <td>28.0</td>\n",
       "      <td>1</td>\n",
       "      <td>8.0</td>\n",
       "      <td>2</td>\n",
       "    </tr>\n",
       "    <tr>\n",
       "      <th>44379</th>\n",
       "      <td>1.0</td>\n",
       "      <td>1</td>\n",
       "      <td>2</td>\n",
       "      <td>4</td>\n",
       "      <td>1</td>\n",
       "      <td>3</td>\n",
       "      <td>1</td>\n",
       "      <td>2</td>\n",
       "      <td>3.0</td>\n",
       "      <td>1</td>\n",
       "      <td>...</td>\n",
       "      <td>5</td>\n",
       "      <td>1.0</td>\n",
       "      <td>2</td>\n",
       "      <td>5.0</td>\n",
       "      <td>5.0</td>\n",
       "      <td>12.0</td>\n",
       "      <td>23.0</td>\n",
       "      <td>1</td>\n",
       "      <td>8.0</td>\n",
       "      <td>2</td>\n",
       "    </tr>\n",
       "    <tr>\n",
       "      <th>44384</th>\n",
       "      <td>0.0</td>\n",
       "      <td>1</td>\n",
       "      <td>2</td>\n",
       "      <td>3</td>\n",
       "      <td>1</td>\n",
       "      <td>2</td>\n",
       "      <td>1</td>\n",
       "      <td>2</td>\n",
       "      <td>4.0</td>\n",
       "      <td>3</td>\n",
       "      <td>...</td>\n",
       "      <td>6</td>\n",
       "      <td>10.0</td>\n",
       "      <td>2</td>\n",
       "      <td>1.0</td>\n",
       "      <td>0.0</td>\n",
       "      <td>17.0</td>\n",
       "      <td>63.0</td>\n",
       "      <td>1</td>\n",
       "      <td>7.0</td>\n",
       "      <td>2</td>\n",
       "    </tr>\n",
       "    <tr>\n",
       "      <th>44385</th>\n",
       "      <td>0.0</td>\n",
       "      <td>2</td>\n",
       "      <td>2</td>\n",
       "      <td>2</td>\n",
       "      <td>2</td>\n",
       "      <td>2</td>\n",
       "      <td>2</td>\n",
       "      <td>2</td>\n",
       "      <td>4.0</td>\n",
       "      <td>3</td>\n",
       "      <td>...</td>\n",
       "      <td>3</td>\n",
       "      <td>5.0</td>\n",
       "      <td>2</td>\n",
       "      <td>4.0</td>\n",
       "      <td>8.0</td>\n",
       "      <td>18.0</td>\n",
       "      <td>45.0</td>\n",
       "      <td>2</td>\n",
       "      <td>10.0</td>\n",
       "      <td>2</td>\n",
       "    </tr>\n",
       "  </tbody>\n",
       "</table>\n",
       "<p>7440 rows × 26 columns</p>\n",
       "</div>\n",
       "      <button class=\"colab-df-convert\" onclick=\"convertToInteractive('df-616806f9-0261-4c96-861b-f4191d2abfe2')\"\n",
       "              title=\"Convert this dataframe to an interactive table.\"\n",
       "              style=\"display:none;\">\n",
       "        \n",
       "  <svg xmlns=\"http://www.w3.org/2000/svg\" height=\"24px\"viewBox=\"0 0 24 24\"\n",
       "       width=\"24px\">\n",
       "    <path d=\"M0 0h24v24H0V0z\" fill=\"none\"/>\n",
       "    <path d=\"M18.56 5.44l.94 2.06.94-2.06 2.06-.94-2.06-.94-.94-2.06-.94 2.06-2.06.94zm-11 1L8.5 8.5l.94-2.06 2.06-.94-2.06-.94L8.5 2.5l-.94 2.06-2.06.94zm10 10l.94 2.06.94-2.06 2.06-.94-2.06-.94-.94-2.06-.94 2.06-2.06.94z\"/><path d=\"M17.41 7.96l-1.37-1.37c-.4-.4-.92-.59-1.43-.59-.52 0-1.04.2-1.43.59L10.3 9.45l-7.72 7.72c-.78.78-.78 2.05 0 2.83L4 21.41c.39.39.9.59 1.41.59.51 0 1.02-.2 1.41-.59l7.78-7.78 2.81-2.81c.8-.78.8-2.07 0-2.86zM5.41 20L4 18.59l7.72-7.72 1.47 1.35L5.41 20z\"/>\n",
       "  </svg>\n",
       "      </button>\n",
       "      \n",
       "  <style>\n",
       "    .colab-df-container {\n",
       "      display:flex;\n",
       "      flex-wrap:wrap;\n",
       "      gap: 12px;\n",
       "    }\n",
       "\n",
       "    .colab-df-convert {\n",
       "      background-color: #E8F0FE;\n",
       "      border: none;\n",
       "      border-radius: 50%;\n",
       "      cursor: pointer;\n",
       "      display: none;\n",
       "      fill: #1967D2;\n",
       "      height: 32px;\n",
       "      padding: 0 0 0 0;\n",
       "      width: 32px;\n",
       "    }\n",
       "\n",
       "    .colab-df-convert:hover {\n",
       "      background-color: #E2EBFA;\n",
       "      box-shadow: 0px 1px 2px rgba(60, 64, 67, 0.3), 0px 1px 3px 1px rgba(60, 64, 67, 0.15);\n",
       "      fill: #174EA6;\n",
       "    }\n",
       "\n",
       "    [theme=dark] .colab-df-convert {\n",
       "      background-color: #3B4455;\n",
       "      fill: #D2E3FC;\n",
       "    }\n",
       "\n",
       "    [theme=dark] .colab-df-convert:hover {\n",
       "      background-color: #434B5C;\n",
       "      box-shadow: 0px 1px 3px 1px rgba(0, 0, 0, 0.15);\n",
       "      filter: drop-shadow(0px 1px 2px rgba(0, 0, 0, 0.3));\n",
       "      fill: #FFFFFF;\n",
       "    }\n",
       "  </style>\n",
       "\n",
       "      <script>\n",
       "        const buttonEl =\n",
       "          document.querySelector('#df-616806f9-0261-4c96-861b-f4191d2abfe2 button.colab-df-convert');\n",
       "        buttonEl.style.display =\n",
       "          google.colab.kernel.accessAllowed ? 'block' : 'none';\n",
       "\n",
       "        async function convertToInteractive(key) {\n",
       "          const element = document.querySelector('#df-616806f9-0261-4c96-861b-f4191d2abfe2');\n",
       "          const dataTable =\n",
       "            await google.colab.kernel.invokeFunction('convertToInteractive',\n",
       "                                                     [key], {});\n",
       "          if (!dataTable) return;\n",
       "\n",
       "          const docLinkHtml = 'Like what you see? Visit the ' +\n",
       "            '<a target=\"_blank\" href=https://colab.research.google.com/notebooks/data_table.ipynb>data table notebook</a>'\n",
       "            + ' to learn more about interactive tables.';\n",
       "          element.innerHTML = '';\n",
       "          dataTable['output_type'] = 'display_data';\n",
       "          await google.colab.output.renderOutput(dataTable, element);\n",
       "          const docLink = document.createElement('div');\n",
       "          docLink.innerHTML = docLinkHtml;\n",
       "          element.appendChild(docLink);\n",
       "        }\n",
       "      </script>\n",
       "    </div>\n",
       "  </div>\n",
       "  "
      ],
      "text/plain": [
       "       lrscale  gincdif  sbbsntx  dfincac  smdfslv  sbstrec  ipeqopt  impcntr  \\\n",
       "2010       0.0        2        3        4        2        3        2        3   \n",
       "2015       2.0        2        3        2        4        3        4        3   \n",
       "2016       1.0        2        4        4        3        4        2        1   \n",
       "2020       1.0        2        3        4        4        2        2        3   \n",
       "2025       2.0        2        2        2        4        4        5        2   \n",
       "...        ...      ...      ...      ...      ...      ...      ...      ...   \n",
       "44374      1.0        3        2        2        3        2        1        1   \n",
       "44375      1.0        1        1        5        1        3        1        4   \n",
       "44379      1.0        1        2        4        1        3        1        2   \n",
       "44384      0.0        1        2        3        1        2        1        2   \n",
       "44385      0.0        2        2        2        2        2        2        2   \n",
       "\n",
       "       elgnuc  sblazy  ...  imprich  imueclt  imsmetn  ccgdbd  rlgdgr  eduyrs  \\\n",
       "2010      5.0       2  ...        4      5.0        3     3.0     5.0    13.0   \n",
       "2015      5.0       2  ...        3      0.0        2     2.0     5.0    12.0   \n",
       "2016      3.0       3  ...        5      8.0        1     2.0     6.0    18.0   \n",
       "2020      4.0       4  ...        4      5.0        3     2.0     9.0    16.0   \n",
       "2025      3.0       2  ...        5      3.0        1     7.0     6.0    14.0   \n",
       "...       ...     ...  ...      ...      ...      ...     ...     ...     ...   \n",
       "44374     3.0       3  ...        3      8.0        1     4.0     4.0    16.0   \n",
       "44375     3.0       2  ...        3      5.0        1     0.0     9.0    12.0   \n",
       "44379     3.0       1  ...        5      1.0        2     5.0     5.0    12.0   \n",
       "44384     4.0       3  ...        6     10.0        2     1.0     0.0    17.0   \n",
       "44385     4.0       3  ...        3      5.0        2     4.0     8.0    18.0   \n",
       "\n",
       "       agea  gndr  hinctnta  blgetmg  \n",
       "2010   46.0     2       7.0        2  \n",
       "2015   72.0     1       5.0        2  \n",
       "2016   27.0     2       7.0        2  \n",
       "2020   42.0     2       9.0        2  \n",
       "2025   48.0     2       7.0        2  \n",
       "...     ...   ...       ...      ...  \n",
       "44374  45.0     1       8.0        2  \n",
       "44375  28.0     1       8.0        2  \n",
       "44379  23.0     1       8.0        2  \n",
       "44384  63.0     1       7.0        2  \n",
       "44385  45.0     2      10.0        2  \n",
       "\n",
       "[7440 rows x 26 columns]"
      ]
     },
     "execution_count": 26,
     "metadata": {},
     "output_type": "execute_result"
    }
   ],
   "source": [
    "ctrl_var = [\"eduyrs\", \"agea\", \"gndr\", \"hinctnta\", \"blgetmg\"]\n",
    "df_ctrl_var = df[ctrl_var]\n",
    "final_df = pd.concat([data_6, df_ctrl_var], axis = 1)\n",
    "final_df"
   ]
  },
  {
   "cell_type": "markdown",
   "id": "SzTTucEGhQn1",
   "metadata": {
    "id": "SzTTucEGhQn1"
   },
   "source": [
    "# Models"
   ]
  },
  {
   "cell_type": "code",
   "execution_count": null,
   "id": "qMPcduVMqCJZ",
   "metadata": {
    "id": "qMPcduVMqCJZ"
   },
   "outputs": [],
   "source": [
    "from sklearn.metrics import accuracy_score, precision_recall_curve, f1_score, roc_auc_score, roc_curve, confusion_matrix\n",
    "from sklearn.model_selection import train_test_split, LeaveOneOut, GridSearchCV\n",
    "from sklearn.ensemble import RandomForestClassifier, AdaBoostClassifier, GradientBoostingClassifier\n",
    "from sklearn.tree import DecisionTreeRegressor, DecisionTreeClassifier\n",
    "from sklearn.dummy import DummyClassifier\n",
    "from sklearn.preprocessing import StandardScaler"
   ]
  },
  {
   "cell_type": "code",
   "execution_count": null,
   "id": "AJp7hiF5g6Ss",
   "metadata": {
    "id": "AJp7hiF5g6Ss"
   },
   "outputs": [],
   "source": [
    "# Splitting the data into X and y\n",
    "X = final_df.iloc[:, 1:]\n",
    "y = df[\"lrscale\"]"
   ]
  },
  {
   "cell_type": "markdown",
   "id": "5vQ12PJyocpE",
   "metadata": {
    "id": "5vQ12PJyocpE"
   },
   "source": [
    "# Using the dummy classifier as the base model to compare all other models against"
   ]
  },
  {
   "cell_type": "markdown",
   "id": "c39a1b89-ceef-46d5-bb86-97a49d5e8eaf",
   "metadata": {
    "id": "R2I3blY7qeul"
   },
   "source": [
    "# The reference is the 'dummy' model, it's basically an estimator that will take the highest proportion in the dataset as estimator.\n",
    "# In this case, the 'lrscale' values equal to 2 are 35.78% of the data set, therefore the 'dummy' model will estimate '2' for all the cases, \n",
    "# and have 35.78% accuracy (will hit the correct value when y=2, which will be 35.78% of the times)."
   ]
  },
  {
   "cell_type": "code",
   "execution_count": null,
   "id": "IgTmY0SioY_T",
   "metadata": {
    "colab": {
     "base_uri": "https://localhost:8080/"
    },
    "executionInfo": {
     "elapsed": 217,
     "status": "ok",
     "timestamp": 1647298773121,
     "user": {
      "displayName": "Nazih Effendi",
      "photoUrl": "https://lh3.googleusercontent.com/a/default-user=s64",
      "userId": "12525088258719974037"
     },
     "user_tz": -60
    },
    "id": "IgTmY0SioY_T",
    "outputId": "626a8263-9f8d-4152-ca02-78d0f0615777"
   },
   "outputs": [
    {
     "name": "stdout",
     "output_type": "stream",
     "text": [
      "Accuracy for the training set : 0.3578\n"
     ]
    }
   ],
   "source": [
    "dummy_c = DummyClassifier(strategy=\"most_frequent\")\n",
    "dummy_c.fit(X, y)\n",
    "dummy_prediction = dummy_c.predict(X)\n",
    "\n",
    "\n",
    "acc_dummy_train = accuracy_score(y, dummy_prediction)\n",
    "print('Accuracy for the training set : '+str(acc_dummy_train.round(5)))"
   ]
  },
  {
   "cell_type": "markdown",
   "id": "HG3L0qjho5_I",
   "metadata": {
    "id": "HG3L0qjho5_I"
   },
   "source": [
    "# ORDERED LOGIT MODEL"
   ]
  },
  {
   "cell_type": "code",
   "execution_count": null,
   "id": "t_kGNQRHhceO",
   "metadata": {
    "colab": {
     "base_uri": "https://localhost:8080/",
     "height": 896
    },
    "executionInfo": {
     "elapsed": 9948,
     "status": "ok",
     "timestamp": 1647298790357,
     "user": {
      "displayName": "Nazih Effendi",
      "photoUrl": "https://lh3.googleusercontent.com/a/default-user=s64",
      "userId": "12525088258719974037"
     },
     "user_tz": -60
    },
    "id": "t_kGNQRHhceO",
    "outputId": "421fc5c4-19e0-44c6-b115-b1fb73f94020"
   },
   "outputs": [
    {
     "name": "stdout",
     "output_type": "stream",
     "text": [
      "Optimization terminated successfully.\n",
      "         Current function value: 0.997438\n",
      "         Iterations: 54\n",
      "         Function evaluations: 58\n",
      "         Gradient evaluations: 58\n"
     ]
    },
    {
     "data": {
      "text/html": [
       "<table class=\"simpletable\">\n",
       "<caption>OrderedModel Results</caption>\n",
       "<tr>\n",
       "  <th>Dep. Variable:</th>          <td>lrscale</td>      <th>  Log-Likelihood:    </th> <td> -7420.9</td> \n",
       "</tr>\n",
       "<tr>\n",
       "  <th>Model:</th>               <td>OrderedModel</td>    <th>  AIC:               </th> <td>1.490e+04</td>\n",
       "</tr>\n",
       "<tr>\n",
       "  <th>Method:</th>           <td>Maximum Likelihood</td> <th>  BIC:               </th> <td>1.508e+04</td>\n",
       "</tr>\n",
       "<tr>\n",
       "  <th>Date:</th>              <td>Mon, 14 Mar 2022</td>  <th>                     </th>     <td> </td>    \n",
       "</tr>\n",
       "<tr>\n",
       "  <th>Time:</th>                  <td>22:59:50</td>      <th>                     </th>     <td> </td>    \n",
       "</tr>\n",
       "<tr>\n",
       "  <th>No. Observations:</th>       <td>  7440</td>       <th>                     </th>     <td> </td>    \n",
       "</tr>\n",
       "<tr>\n",
       "  <th>Df Residuals:</th>           <td>  7413</td>       <th>                     </th>     <td> </td>    \n",
       "</tr>\n",
       "<tr>\n",
       "  <th>Df Model:</th>               <td>    27</td>       <th>                     </th>     <td> </td>    \n",
       "</tr>\n",
       "</table>\n",
       "<table class=\"simpletable\">\n",
       "<tr>\n",
       "      <td></td>        <th>coef</th>     <th>std err</th>      <th>z</th>      <th>P>|z|</th>  <th>[0.025</th>    <th>0.975]</th>  \n",
       "</tr>\n",
       "<tr>\n",
       "  <th>gincdif</th>  <td>    0.1530</td> <td>    0.025</td> <td>    6.101</td> <td> 0.000</td> <td>    0.104</td> <td>    0.202</td>\n",
       "</tr>\n",
       "<tr>\n",
       "  <th>sbbsntx</th>  <td>   -0.1701</td> <td>    0.023</td> <td>   -7.470</td> <td> 0.000</td> <td>   -0.215</td> <td>   -0.125</td>\n",
       "</tr>\n",
       "<tr>\n",
       "  <th>dfincac</th>  <td>   -0.1123</td> <td>    0.022</td> <td>   -5.157</td> <td> 0.000</td> <td>   -0.155</td> <td>   -0.070</td>\n",
       "</tr>\n",
       "<tr>\n",
       "  <th>smdfslv</th>  <td>    0.1299</td> <td>    0.026</td> <td>    4.945</td> <td> 0.000</td> <td>    0.078</td> <td>    0.181</td>\n",
       "</tr>\n",
       "<tr>\n",
       "  <th>sbstrec</th>  <td>   -0.1280</td> <td>    0.024</td> <td>   -5.346</td> <td> 0.000</td> <td>   -0.175</td> <td>   -0.081</td>\n",
       "</tr>\n",
       "<tr>\n",
       "  <th>ipeqopt</th>  <td>    0.1018</td> <td>    0.023</td> <td>    4.382</td> <td> 0.000</td> <td>    0.056</td> <td>    0.147</td>\n",
       "</tr>\n",
       "<tr>\n",
       "  <th>impcntr</th>  <td>    0.0241</td> <td>    0.035</td> <td>    0.696</td> <td> 0.486</td> <td>   -0.044</td> <td>    0.092</td>\n",
       "</tr>\n",
       "<tr>\n",
       "  <th>elgnuc</th>   <td>   -0.1353</td> <td>    0.020</td> <td>   -6.861</td> <td> 0.000</td> <td>   -0.174</td> <td>   -0.097</td>\n",
       "</tr>\n",
       "<tr>\n",
       "  <th>sblazy</th>   <td>   -0.0480</td> <td>    0.023</td> <td>   -2.096</td> <td> 0.036</td> <td>   -0.093</td> <td>   -0.003</td>\n",
       "</tr>\n",
       "<tr>\n",
       "  <th>imdfetn</th>  <td>    0.0108</td> <td>    0.044</td> <td>    0.246</td> <td> 0.806</td> <td>   -0.075</td> <td>    0.097</td>\n",
       "</tr>\n",
       "<tr>\n",
       "  <th>hmsacld</th>  <td>    0.0658</td> <td>    0.018</td> <td>    3.663</td> <td> 0.000</td> <td>    0.031</td> <td>    0.101</td>\n",
       "</tr>\n",
       "<tr>\n",
       "  <th>gvrfgap</th>  <td>    0.1156</td> <td>    0.022</td> <td>    5.272</td> <td> 0.000</td> <td>    0.073</td> <td>    0.159</td>\n",
       "</tr>\n",
       "<tr>\n",
       "  <th>eusclbf</th>  <td>   -0.1317</td> <td>    0.024</td> <td>   -5.560</td> <td> 0.000</td> <td>   -0.178</td> <td>   -0.085</td>\n",
       "</tr>\n",
       "<tr>\n",
       "  <th>wrclmch</th>  <td>   -0.1130</td> <td>    0.028</td> <td>   -4.003</td> <td> 0.000</td> <td>   -0.168</td> <td>   -0.058</td>\n",
       "</tr>\n",
       "<tr>\n",
       "  <th>pbldmn</th>   <td>    0.6487</td> <td>    0.085</td> <td>    7.625</td> <td> 0.000</td> <td>    0.482</td> <td>    0.815</td>\n",
       "</tr>\n",
       "<tr>\n",
       "  <th>imprich</th>  <td>   -0.0950</td> <td>    0.020</td> <td>   -4.810</td> <td> 0.000</td> <td>   -0.134</td> <td>   -0.056</td>\n",
       "</tr>\n",
       "<tr>\n",
       "  <th>imueclt</th>  <td>   -0.0141</td> <td>    0.011</td> <td>   -1.258</td> <td> 0.208</td> <td>   -0.036</td> <td>    0.008</td>\n",
       "</tr>\n",
       "<tr>\n",
       "  <th>imsmetn</th>  <td>    0.0153</td> <td>    0.038</td> <td>    0.404</td> <td> 0.686</td> <td>   -0.059</td> <td>    0.089</td>\n",
       "</tr>\n",
       "<tr>\n",
       "  <th>ccgdbd</th>   <td>    0.0400</td> <td>    0.012</td> <td>    3.401</td> <td> 0.001</td> <td>    0.017</td> <td>    0.063</td>\n",
       "</tr>\n",
       "<tr>\n",
       "  <th>rlgdgr</th>   <td>    0.0984</td> <td>    0.008</td> <td>   12.507</td> <td> 0.000</td> <td>    0.083</td> <td>    0.114</td>\n",
       "</tr>\n",
       "<tr>\n",
       "  <th>eduyrs</th>   <td>   -0.0031</td> <td>    0.007</td> <td>   -0.428</td> <td> 0.669</td> <td>   -0.017</td> <td>    0.011</td>\n",
       "</tr>\n",
       "<tr>\n",
       "  <th>agea</th>     <td>    0.0019</td> <td>    0.002</td> <td>    1.177</td> <td> 0.239</td> <td>   -0.001</td> <td>    0.005</td>\n",
       "</tr>\n",
       "<tr>\n",
       "  <th>gndr</th>     <td>   -0.0483</td> <td>    0.047</td> <td>   -1.032</td> <td> 0.302</td> <td>   -0.140</td> <td>    0.043</td>\n",
       "</tr>\n",
       "<tr>\n",
       "  <th>hinctnta</th> <td>    0.0556</td> <td>    0.010</td> <td>    5.505</td> <td> 0.000</td> <td>    0.036</td> <td>    0.075</td>\n",
       "</tr>\n",
       "<tr>\n",
       "  <th>blgetmg</th>  <td>    0.1322</td> <td>    0.050</td> <td>    2.662</td> <td> 0.008</td> <td>    0.035</td> <td>    0.230</td>\n",
       "</tr>\n",
       "<tr>\n",
       "  <th>0.0/1.0</th>  <td>   -0.0203</td> <td>    0.344</td> <td>   -0.059</td> <td> 0.953</td> <td>   -0.695</td> <td>    0.654</td>\n",
       "</tr>\n",
       "<tr>\n",
       "  <th>1.0/2.0</th>  <td>    0.4072</td> <td>    0.019</td> <td>   21.737</td> <td> 0.000</td> <td>    0.370</td> <td>    0.444</td>\n",
       "</tr>\n",
       "</table>"
      ],
      "text/plain": [
       "<class 'statsmodels.iolib.summary.Summary'>\n",
       "\"\"\"\n",
       "                             OrderedModel Results                             \n",
       "==============================================================================\n",
       "Dep. Variable:                lrscale   Log-Likelihood:                -7420.9\n",
       "Model:                   OrderedModel   AIC:                         1.490e+04\n",
       "Method:            Maximum Likelihood   BIC:                         1.508e+04\n",
       "Date:                Mon, 14 Mar 2022                                         \n",
       "Time:                        22:59:50                                         \n",
       "No. Observations:                7440                                         \n",
       "Df Residuals:                    7413                                         \n",
       "Df Model:                          27                                         \n",
       "==============================================================================\n",
       "                 coef    std err          z      P>|z|      [0.025      0.975]\n",
       "------------------------------------------------------------------------------\n",
       "gincdif        0.1530      0.025      6.101      0.000       0.104       0.202\n",
       "sbbsntx       -0.1701      0.023     -7.470      0.000      -0.215      -0.125\n",
       "dfincac       -0.1123      0.022     -5.157      0.000      -0.155      -0.070\n",
       "smdfslv        0.1299      0.026      4.945      0.000       0.078       0.181\n",
       "sbstrec       -0.1280      0.024     -5.346      0.000      -0.175      -0.081\n",
       "ipeqopt        0.1018      0.023      4.382      0.000       0.056       0.147\n",
       "impcntr        0.0241      0.035      0.696      0.486      -0.044       0.092\n",
       "elgnuc        -0.1353      0.020     -6.861      0.000      -0.174      -0.097\n",
       "sblazy        -0.0480      0.023     -2.096      0.036      -0.093      -0.003\n",
       "imdfetn        0.0108      0.044      0.246      0.806      -0.075       0.097\n",
       "hmsacld        0.0658      0.018      3.663      0.000       0.031       0.101\n",
       "gvrfgap        0.1156      0.022      5.272      0.000       0.073       0.159\n",
       "eusclbf       -0.1317      0.024     -5.560      0.000      -0.178      -0.085\n",
       "wrclmch       -0.1130      0.028     -4.003      0.000      -0.168      -0.058\n",
       "pbldmn         0.6487      0.085      7.625      0.000       0.482       0.815\n",
       "imprich       -0.0950      0.020     -4.810      0.000      -0.134      -0.056\n",
       "imueclt       -0.0141      0.011     -1.258      0.208      -0.036       0.008\n",
       "imsmetn        0.0153      0.038      0.404      0.686      -0.059       0.089\n",
       "ccgdbd         0.0400      0.012      3.401      0.001       0.017       0.063\n",
       "rlgdgr         0.0984      0.008     12.507      0.000       0.083       0.114\n",
       "eduyrs        -0.0031      0.007     -0.428      0.669      -0.017       0.011\n",
       "agea           0.0019      0.002      1.177      0.239      -0.001       0.005\n",
       "gndr          -0.0483      0.047     -1.032      0.302      -0.140       0.043\n",
       "hinctnta       0.0556      0.010      5.505      0.000       0.036       0.075\n",
       "blgetmg        0.1322      0.050      2.662      0.008       0.035       0.230\n",
       "0.0/1.0       -0.0203      0.344     -0.059      0.953      -0.695       0.654\n",
       "1.0/2.0        0.4072      0.019     21.737      0.000       0.370       0.444\n",
       "==============================================================================\n",
       "\"\"\""
      ]
     },
     "execution_count": 32,
     "metadata": {},
     "output_type": "execute_result"
    }
   ],
   "source": [
    "ordinal_logit = OrderedModel(y,X, distr=\"logit\")\n",
    "res_ordinal_logit = ordinal_logit.fit(method='bfgs')\n",
    "res_ordinal_logit.summary()"
   ]
  },
  {
   "cell_type": "code",
   "execution_count": null,
   "id": "ip7AKn03jeki",
   "metadata": {
    "colab": {
     "base_uri": "https://localhost:8080/",
     "height": 220
    },
    "executionInfo": {
     "elapsed": 281,
     "status": "ok",
     "timestamp": 1647298811422,
     "user": {
      "displayName": "Nazih Effendi",
      "photoUrl": "https://lh3.googleusercontent.com/a/default-user=s64",
      "userId": "12525088258719974037"
     },
     "user_tz": -60
    },
    "id": "ip7AKn03jeki",
    "outputId": "ae3cc0ab-ace5-46c1-8d97-fcde7078c980"
   },
   "outputs": [
    {
     "data": {
      "image/png": "[encoded data removed]",
      "text/plain": [
       "<Figure size 432x288 with 1 Axes>"
      ]
     },
     "metadata": {},
     "output_type": "display_data"
    }
   ],
   "source": [
    "responseprofile(y)"
   ]
  },
  {
   "cell_type": "code",
   "execution_count": null,
   "id": "lkLZyvXrhhfy",
   "metadata": {
    "colab": {
     "base_uri": "https://localhost:8080/",
     "height": 131
    },
    "executionInfo": {
     "elapsed": 428,
     "status": "ok",
     "timestamp": 1647298814206,
     "user": {
      "displayName": "Nazih Effendi",
      "photoUrl": "https://lh3.googleusercontent.com/a/default-user=s64",
      "userId": "12525088258719974037"
     },
     "user_tz": -60
    },
    "id": "lkLZyvXrhhfy",
    "outputId": "7dcaf156-d2d9-4c12-d4df-088ae63ac0bb"
   },
   "outputs": [
    {
     "data": {
      "image/png": "[encoded data removed]",
      "text/plain": [
       "<Figure size 432x288 with 1 Axes>"
      ]
     },
     "metadata": {},
     "output_type": "display_data"
    }
   ],
   "source": [
    "informationcriteria(y, res_ordinal_logit)"
   ]
  },
  {
   "cell_type": "code",
   "execution_count": null,
   "id": "wOBdZMgaimEU",
   "metadata": {
    "colab": {
     "base_uri": "https://localhost:8080/",
     "height": 116
    },
    "executionInfo": {
     "elapsed": 714,
     "status": "ok",
     "timestamp": 1647298815775,
     "user": {
      "displayName": "Nazih Effendi",
      "photoUrl": "https://lh3.googleusercontent.com/a/default-user=s64",
      "userId": "12525088258719974037"
     },
     "user_tz": -60
    },
    "id": "wOBdZMgaimEU",
    "outputId": "b30b688b-5339-4f26-9b6c-3c3ff923b122"
   },
   "outputs": [
    {
     "data": {
      "image/png": "[encoded data removed]",
      "text/plain": [
       "<Figure size 432x288 with 1 Axes>"
      ]
     },
     "metadata": {},
     "output_type": "display_data"
    }
   ],
   "source": [
    "globalnull(y, res_ordinal_logit)"
   ]
  },
  {
   "cell_type": "code",
   "execution_count": null,
   "id": "plqmCDgMjAsR",
   "metadata": {
    "colab": {
     "base_uri": "https://localhost:8080/",
     "height": 579
    },
    "executionInfo": {
     "elapsed": 1200,
     "status": "ok",
     "timestamp": 1647298819172,
     "user": {
      "displayName": "Nazih Effendi",
      "photoUrl": "https://lh3.googleusercontent.com/a/default-user=s64",
      "userId": "12525088258719974037"
     },
     "user_tz": -60
    },
    "id": "plqmCDgMjAsR",
    "outputId": "980f6810-7c5f-43f8-f4f2-8f6d9f6a7a65"
   },
   "outputs": [
    {
     "name": "stdout",
     "output_type": "stream",
     "text": [
      "!!ATTENTION: Odds ratio are only OK with the Logit link function!!\n"
     ]
    },
    {
     "data": {
      "image/png": "[encoded data removed]",
      "text/plain": [
       "<Figure size 432x288 with 1 Axes>"
      ]
     },
     "metadata": {},
     "output_type": "display_data"
    }
   ],
   "source": [
    "oddsratioestimates(y, res_ordinal_logit)"
   ]
  },
  {
   "cell_type": "markdown",
   "id": "0YuHXvihwjMv",
   "metadata": {
    "id": "0YuHXvihwjMv"
   },
   "source": [
    "# Calculating the Gamma"
   ]
  },
  {
   "cell_type": "code",
   "execution_count": null,
   "id": "SP59O22QjJMY",
   "metadata": {
    "colab": {
     "base_uri": "https://localhost:8080/"
    },
    "executionInfo": {
     "elapsed": 238,
     "status": "ok",
     "timestamp": 1647298821123,
     "user": {
      "displayName": "Nazih Effendi",
      "photoUrl": "https://lh3.googleusercontent.com/a/default-user=s64",
      "userId": "12525088258719974037"
     },
     "user_tz": -60
    },
    "id": "SP59O22QjJMY",
    "outputId": "d6d4b690-0d9b-4eaf-ed5d-3b05d507a60d"
   },
   "outputs": [
    {
     "data": {
      "text/plain": [
       "array([       -inf, -0.02029718,  1.48226531,         inf])"
      ]
     },
     "execution_count": 37,
     "metadata": {},
     "output_type": "execute_result"
    }
   ],
   "source": [
    "# Calculating the Gamma values i.e. the intercept values\n",
    "num_of_thresholds = 2\n",
    "ordinal_logit.transform_threshold_params(res_ordinal_logit.params[-num_of_thresholds:])"
   ]
  },
  {
   "cell_type": "markdown",
   "id": "C-Pjqv2LpYwq",
   "metadata": {
    "id": "C-Pjqv2LpYwq"
   },
   "source": [
    "# Checking prediction results"
   ]
  },
  {
   "cell_type": "code",
   "execution_count": null,
   "id": "rkIDH6mGjM45",
   "metadata": {
    "id": "rkIDH6mGjM45"
   },
   "outputs": [],
   "source": [
    "pred = res_ordinal_logit.model.predict(res_ordinal_logit.params, exog= X)"
   ]
  },
  {
   "cell_type": "code",
   "execution_count": null,
   "id": "uub4WPq9jSAQ",
   "metadata": {
    "colab": {
     "base_uri": "https://localhost:8080/"
    },
    "executionInfo": {
     "elapsed": 7,
     "status": "ok",
     "timestamp": 1647298825556,
     "user": {
      "displayName": "Nazih Effendi",
      "photoUrl": "https://lh3.googleusercontent.com/a/default-user=s64",
      "userId": "12525088258719974037"
     },
     "user_tz": -60
    },
    "id": "uub4WPq9jSAQ",
    "outputId": "83a13ab7-a416-4741-cf13-864219b5b8a4"
   },
   "outputs": [
    {
     "name": "stdout",
     "output_type": "stream",
     "text": [
      "Fraction of correct choice predictions\n",
      "0.4896505376344086\n"
     ]
    }
   ],
   "source": [
    "pred_choice = pred.argmax(1)\n",
    "print('Fraction of correct choice predictions')\n",
    "print((np.asarray(y) == pred_choice).mean())"
   ]
  },
  {
   "cell_type": "markdown",
   "id": "CpiLZQc0DYL-",
   "metadata": {
    "id": "CpiLZQc0DYL-"
   },
   "source": [
    "# Using only the significant variables and the control variables (whether they are significant or not)"
   ]
  },
  {
   "cell_type": "code",
   "execution_count": null,
   "id": "0M1foEPJDWNv",
   "metadata": {
    "id": "0M1foEPJDWNv"
   },
   "outputs": [],
   "source": [
    "X_sig = X.drop([\"impcntr\", \"imdfetn\", \"imueclt\", \"imsmetn\"], axis = 1)"
   ]
  },
  {
   "cell_type": "code",
   "execution_count": null,
   "id": "Drd1rtIrD_Cj",
   "metadata": {
    "colab": {
     "base_uri": "https://localhost:8080/",
     "height": 811
    },
    "executionInfo": {
     "elapsed": 14810,
     "status": "ok",
     "timestamp": 1647288791984,
     "user": {
      "displayName": "Nazih Effendi",
      "photoUrl": "https://lh3.googleusercontent.com/a/default-user=s64",
      "userId": "12525088258719974037"
     },
     "user_tz": -60
    },
    "id": "Drd1rtIrD_Cj",
    "outputId": "8e55c1f6-7b1c-419e-96c2-6041ef71379b"
   },
   "outputs": [
    {
     "name": "stdout",
     "output_type": "stream",
     "text": [
      "Optimization terminated successfully.\n",
      "         Current function value: 0.997828\n",
      "         Iterations: 46\n",
      "         Function evaluations: 49\n",
      "         Gradient evaluations: 49\n"
     ]
    },
    {
     "data": {
      "text/html": [
       "<table class=\"simpletable\">\n",
       "<caption>OrderedModel Results</caption>\n",
       "<tr>\n",
       "  <th>Dep. Variable:</th>          <td>lrscale</td>      <th>  Log-Likelihood:    </th> <td> -7423.8</td> \n",
       "</tr>\n",
       "<tr>\n",
       "  <th>Model:</th>               <td>OrderedModel</td>    <th>  AIC:               </th> <td>1.489e+04</td>\n",
       "</tr>\n",
       "<tr>\n",
       "  <th>Method:</th>           <td>Maximum Likelihood</td> <th>  BIC:               </th> <td>1.505e+04</td>\n",
       "</tr>\n",
       "<tr>\n",
       "  <th>Date:</th>              <td>Mon, 14 Mar 2022</td>  <th>                     </th>     <td> </td>    \n",
       "</tr>\n",
       "<tr>\n",
       "  <th>Time:</th>                  <td>20:13:11</td>      <th>                     </th>     <td> </td>    \n",
       "</tr>\n",
       "<tr>\n",
       "  <th>No. Observations:</th>       <td>  7440</td>       <th>                     </th>     <td> </td>    \n",
       "</tr>\n",
       "<tr>\n",
       "  <th>Df Residuals:</th>           <td>  7417</td>       <th>                     </th>     <td> </td>    \n",
       "</tr>\n",
       "<tr>\n",
       "  <th>Df Model:</th>               <td>    23</td>       <th>                     </th>     <td> </td>    \n",
       "</tr>\n",
       "</table>\n",
       "<table class=\"simpletable\">\n",
       "<tr>\n",
       "      <td></td>        <th>coef</th>     <th>std err</th>      <th>z</th>      <th>P>|z|</th>  <th>[0.025</th>    <th>0.975]</th>  \n",
       "</tr>\n",
       "<tr>\n",
       "  <th>gincdif</th>  <td>    0.1511</td> <td>    0.025</td> <td>    6.036</td> <td> 0.000</td> <td>    0.102</td> <td>    0.200</td>\n",
       "</tr>\n",
       "<tr>\n",
       "  <th>sbbsntx</th>  <td>   -0.1712</td> <td>    0.023</td> <td>   -7.522</td> <td> 0.000</td> <td>   -0.216</td> <td>   -0.127</td>\n",
       "</tr>\n",
       "<tr>\n",
       "  <th>dfincac</th>  <td>   -0.1101</td> <td>    0.022</td> <td>   -5.063</td> <td> 0.000</td> <td>   -0.153</td> <td>   -0.067</td>\n",
       "</tr>\n",
       "<tr>\n",
       "  <th>smdfslv</th>  <td>    0.1299</td> <td>    0.026</td> <td>    4.945</td> <td> 0.000</td> <td>    0.078</td> <td>    0.181</td>\n",
       "</tr>\n",
       "<tr>\n",
       "  <th>sbstrec</th>  <td>   -0.1308</td> <td>    0.024</td> <td>   -5.471</td> <td> 0.000</td> <td>   -0.178</td> <td>   -0.084</td>\n",
       "</tr>\n",
       "<tr>\n",
       "  <th>ipeqopt</th>  <td>    0.1069</td> <td>    0.023</td> <td>    4.619</td> <td> 0.000</td> <td>    0.062</td> <td>    0.152</td>\n",
       "</tr>\n",
       "<tr>\n",
       "  <th>elgnuc</th>   <td>   -0.1381</td> <td>    0.020</td> <td>   -7.027</td> <td> 0.000</td> <td>   -0.177</td> <td>   -0.100</td>\n",
       "</tr>\n",
       "<tr>\n",
       "  <th>sblazy</th>   <td>   -0.0553</td> <td>    0.023</td> <td>   -2.438</td> <td> 0.015</td> <td>   -0.100</td> <td>   -0.011</td>\n",
       "</tr>\n",
       "<tr>\n",
       "  <th>hmsacld</th>  <td>    0.0773</td> <td>    0.017</td> <td>    4.484</td> <td> 0.000</td> <td>    0.043</td> <td>    0.111</td>\n",
       "</tr>\n",
       "<tr>\n",
       "  <th>gvrfgap</th>  <td>    0.1336</td> <td>    0.020</td> <td>    6.535</td> <td> 0.000</td> <td>    0.094</td> <td>    0.174</td>\n",
       "</tr>\n",
       "<tr>\n",
       "  <th>eusclbf</th>  <td>   -0.1315</td> <td>    0.024</td> <td>   -5.550</td> <td> 0.000</td> <td>   -0.178</td> <td>   -0.085</td>\n",
       "</tr>\n",
       "<tr>\n",
       "  <th>wrclmch</th>  <td>   -0.1148</td> <td>    0.028</td> <td>   -4.072</td> <td> 0.000</td> <td>   -0.170</td> <td>   -0.060</td>\n",
       "</tr>\n",
       "<tr>\n",
       "  <th>pbldmn</th>   <td>    0.6567</td> <td>    0.085</td> <td>    7.729</td> <td> 0.000</td> <td>    0.490</td> <td>    0.823</td>\n",
       "</tr>\n",
       "<tr>\n",
       "  <th>imprich</th>  <td>   -0.0997</td> <td>    0.020</td> <td>   -5.077</td> <td> 0.000</td> <td>   -0.138</td> <td>   -0.061</td>\n",
       "</tr>\n",
       "<tr>\n",
       "  <th>ccgdbd</th>   <td>    0.0394</td> <td>    0.012</td> <td>    3.353</td> <td> 0.001</td> <td>    0.016</td> <td>    0.062</td>\n",
       "</tr>\n",
       "<tr>\n",
       "  <th>rlgdgr</th>   <td>    0.0976</td> <td>    0.008</td> <td>   12.441</td> <td> 0.000</td> <td>    0.082</td> <td>    0.113</td>\n",
       "</tr>\n",
       "<tr>\n",
       "  <th>eduyrs</th>   <td>   -0.0060</td> <td>    0.007</td> <td>   -0.835</td> <td> 0.404</td> <td>   -0.020</td> <td>    0.008</td>\n",
       "</tr>\n",
       "<tr>\n",
       "  <th>agea</th>     <td>    0.0020</td> <td>    0.002</td> <td>    1.245</td> <td> 0.213</td> <td>   -0.001</td> <td>    0.005</td>\n",
       "</tr>\n",
       "<tr>\n",
       "  <th>gndr</th>     <td>   -0.0432</td> <td>    0.047</td> <td>   -0.926</td> <td> 0.354</td> <td>   -0.135</td> <td>    0.048</td>\n",
       "</tr>\n",
       "<tr>\n",
       "  <th>hinctnta</th> <td>    0.0528</td> <td>    0.010</td> <td>    5.272</td> <td> 0.000</td> <td>    0.033</td> <td>    0.072</td>\n",
       "</tr>\n",
       "<tr>\n",
       "  <th>blgetmg</th>  <td>    0.1317</td> <td>    0.050</td> <td>    2.653</td> <td> 0.008</td> <td>    0.034</td> <td>    0.229</td>\n",
       "</tr>\n",
       "<tr>\n",
       "  <th>0.0/1.0</th>  <td>   -0.0574</td> <td>    0.327</td> <td>   -0.176</td> <td> 0.861</td> <td>   -0.698</td> <td>    0.584</td>\n",
       "</tr>\n",
       "<tr>\n",
       "  <th>1.0/2.0</th>  <td>    0.4065</td> <td>    0.019</td> <td>   21.703</td> <td> 0.000</td> <td>    0.370</td> <td>    0.443</td>\n",
       "</tr>\n",
       "</table>"
      ],
      "text/plain": [
       "<class 'statsmodels.iolib.summary.Summary'>\n",
       "\"\"\"\n",
       "                             OrderedModel Results                             \n",
       "==============================================================================\n",
       "Dep. Variable:                lrscale   Log-Likelihood:                -7423.8\n",
       "Model:                   OrderedModel   AIC:                         1.489e+04\n",
       "Method:            Maximum Likelihood   BIC:                         1.505e+04\n",
       "Date:                Mon, 14 Mar 2022                                         \n",
       "Time:                        20:13:11                                         \n",
       "No. Observations:                7440                                         \n",
       "Df Residuals:                    7417                                         \n",
       "Df Model:                          23                                         \n",
       "==============================================================================\n",
       "                 coef    std err          z      P>|z|      [0.025      0.975]\n",
       "------------------------------------------------------------------------------\n",
       "gincdif        0.1511      0.025      6.036      0.000       0.102       0.200\n",
       "sbbsntx       -0.1712      0.023     -7.522      0.000      -0.216      -0.127\n",
       "dfincac       -0.1101      0.022     -5.063      0.000      -0.153      -0.067\n",
       "smdfslv        0.1299      0.026      4.945      0.000       0.078       0.181\n",
       "sbstrec       -0.1308      0.024     -5.471      0.000      -0.178      -0.084\n",
       "ipeqopt        0.1069      0.023      4.619      0.000       0.062       0.152\n",
       "elgnuc        -0.1381      0.020     -7.027      0.000      -0.177      -0.100\n",
       "sblazy        -0.0553      0.023     -2.438      0.015      -0.100      -0.011\n",
       "hmsacld        0.0773      0.017      4.484      0.000       0.043       0.111\n",
       "gvrfgap        0.1336      0.020      6.535      0.000       0.094       0.174\n",
       "eusclbf       -0.1315      0.024     -5.550      0.000      -0.178      -0.085\n",
       "wrclmch       -0.1148      0.028     -4.072      0.000      -0.170      -0.060\n",
       "pbldmn         0.6567      0.085      7.729      0.000       0.490       0.823\n",
       "imprich       -0.0997      0.020     -5.077      0.000      -0.138      -0.061\n",
       "ccgdbd         0.0394      0.012      3.353      0.001       0.016       0.062\n",
       "rlgdgr         0.0976      0.008     12.441      0.000       0.082       0.113\n",
       "eduyrs        -0.0060      0.007     -0.835      0.404      -0.020       0.008\n",
       "agea           0.0020      0.002      1.245      0.213      -0.001       0.005\n",
       "gndr          -0.0432      0.047     -0.926      0.354      -0.135       0.048\n",
       "hinctnta       0.0528      0.010      5.272      0.000       0.033       0.072\n",
       "blgetmg        0.1317      0.050      2.653      0.008       0.034       0.229\n",
       "0.0/1.0       -0.0574      0.327     -0.176      0.861      -0.698       0.584\n",
       "1.0/2.0        0.4065      0.019     21.703      0.000       0.370       0.443\n",
       "==============================================================================\n",
       "\"\"\""
      ]
     },
     "execution_count": 75,
     "metadata": {},
     "output_type": "execute_result"
    }
   ],
   "source": [
    "ordinal_logit = OrderedModel(y,X_sig, distr=\"logit\")\n",
    "res_ordinal_logit = ordinal_logit.fit(method='bfgs')\n",
    "res_ordinal_logit.summary()"
   ]
  },
  {
   "cell_type": "code",
   "execution_count": null,
   "id": "Vi2-GEj7EGNm",
   "metadata": {
    "colab": {
     "base_uri": "https://localhost:8080/",
     "height": 131
    },
    "executionInfo": {
     "elapsed": 984,
     "status": "ok",
     "timestamp": 1647288807354,
     "user": {
      "displayName": "Nazih Effendi",
      "photoUrl": "https://lh3.googleusercontent.com/a/default-user=s64",
      "userId": "12525088258719974037"
     },
     "user_tz": -60
    },
    "id": "Vi2-GEj7EGNm",
    "outputId": "7c87c300-a755-4d91-ad90-7bcd7b720250"
   },
   "outputs": [
    {
     "data": {
      "image/png": "[encoded data removed]",
      "text/plain": [
       "<Figure size 432x288 with 1 Axes>"
      ]
     },
     "metadata": {},
     "output_type": "display_data"
    }
   ],
   "source": [
    "informationcriteria(y, res_ordinal_logit)"
   ]
  },
  {
   "cell_type": "code",
   "execution_count": null,
   "id": "EhtqFBU4EJw7",
   "metadata": {
    "colab": {
     "base_uri": "https://localhost:8080/",
     "height": 116
    },
    "executionInfo": {
     "elapsed": 916,
     "status": "ok",
     "timestamp": 1647288832971,
     "user": {
      "displayName": "Nazih Effendi",
      "photoUrl": "https://lh3.googleusercontent.com/a/default-user=s64",
      "userId": "12525088258719974037"
     },
     "user_tz": -60
    },
    "id": "EhtqFBU4EJw7",
    "outputId": "20e2811a-e13f-4220-9f6a-2aeac59abecb"
   },
   "outputs": [
    {
     "data": {
      "image/png": "[encoded data removed]",
      "text/plain": [
       "<Figure size 432x288 with 1 Axes>"
      ]
     },
     "metadata": {},
     "output_type": "display_data"
    }
   ],
   "source": [
    "globalnull(y, res_ordinal_logit)"
   ]
  },
  {
   "cell_type": "code",
   "execution_count": null,
   "id": "C4TF3kbbEOcK",
   "metadata": {
    "colab": {
     "base_uri": "https://localhost:8080/",
     "height": 498
    },
    "executionInfo": {
     "elapsed": 2383,
     "status": "ok",
     "timestamp": 1647288856965,
     "user": {
      "displayName": "Nazih Effendi",
      "photoUrl": "https://lh3.googleusercontent.com/a/default-user=s64",
      "userId": "12525088258719974037"
     },
     "user_tz": -60
    },
    "id": "C4TF3kbbEOcK",
    "outputId": "ceca1e9e-0f89-4a37-a106-b686a5e7582e"
   },
   "outputs": [
    {
     "name": "stdout",
     "output_type": "stream",
     "text": [
      "!!ATTENTION: Odds ratio are only OK with the Logit link function!!\n"
     ]
    },
    {
     "data": {
      "image/png": "[encoded data removed]",
      "text/plain": [
       "<Figure size 432x288 with 1 Axes>"
      ]
     },
     "metadata": {},
     "output_type": "display_data"
    }
   ],
   "source": [
    "oddsratioestimates(y, res_ordinal_logit)"
   ]
  },
  {
   "cell_type": "markdown",
   "id": "EZVcGPOeEXF-",
   "metadata": {
    "id": "EZVcGPOeEXF-"
   },
   "source": [
    "# Checking the prediction accuracy"
   ]
  },
  {
   "cell_type": "code",
   "execution_count": null,
   "id": "cmKM68mxEcNt",
   "metadata": {
    "id": "cmKM68mxEcNt"
   },
   "outputs": [],
   "source": [
    "pred = res_ordinal_logit.model.predict(res_ordinal_logit.params, exog= X_sig)"
   ]
  },
  {
   "cell_type": "code",
   "execution_count": null,
   "id": "L-_deM9FEgmL",
   "metadata": {
    "colab": {
     "base_uri": "https://localhost:8080/"
    },
    "executionInfo": {
     "elapsed": 465,
     "status": "ok",
     "timestamp": 1647288916934,
     "user": {
      "displayName": "Nazih Effendi",
      "photoUrl": "https://lh3.googleusercontent.com/a/default-user=s64",
      "userId": "12525088258719974037"
     },
     "user_tz": -60
    },
    "id": "L-_deM9FEgmL",
    "outputId": "f7412046-bc7f-4eac-d25a-88ec28ac1d1b"
   },
   "outputs": [
    {
     "name": "stdout",
     "output_type": "stream",
     "text": [
      "Fraction of correct choice predictions\n",
      "0.4881720430107527\n"
     ]
    }
   ],
   "source": [
    "pred_choice = pred.argmax(1)\n",
    "print('Fraction of correct choice predictions')\n",
    "print((np.asarray(y) == pred_choice).mean())"
   ]
  },
  {
   "cell_type": "markdown",
   "id": "lk1W-6-alaoZ",
   "metadata": {
    "id": "lk1W-6-alaoZ"
   },
   "source": [
    "# Checking prediction accuracy with different Machinery Learning and Deep Learning models"
   ]
  },
  {
   "cell_type": "code",
   "execution_count": null,
   "id": "bORS6opXm-aX",
   "metadata": {
    "id": "bORS6opXm-aX"
   },
   "outputs": [],
   "source": [
    "# Spliting the data into train and test split"
   ]
  },
  {
   "cell_type": "code",
   "execution_count": null,
   "id": "UpFfxnKqlhey",
   "metadata": {
    "id": "UpFfxnKqlhey"
   },
   "outputs": [],
   "source": [
    "x_train, x_test, y_train, y_test = train_test_split(X, y, test_size = 0.2, random_state = 123)"
   ]
  },
  {
   "cell_type": "markdown",
   "id": "ZkChhrpRm3D4",
   "metadata": {
    "id": "ZkChhrpRm3D4"
   },
   "source": [
    "# Random Forest Classifier"
   ]
  },
  {
   "cell_type": "code",
   "execution_count": null,
   "id": "SK2NHveSltt7",
   "metadata": {
    "colab": {
     "base_uri": "https://localhost:8080/"
    },
    "executionInfo": {
     "elapsed": 941,
     "status": "ok",
     "timestamp": 1647279791374,
     "user": {
      "displayName": "Nazih Effendi",
      "photoUrl": "https://lh3.googleusercontent.com/a/default-user=s64",
      "userId": "12525088258719974037"
     },
     "user_tz": -60
    },
    "id": "SK2NHveSltt7",
    "outputId": "21447181-755e-44bd-9f77-c70cdb50738b"
   },
   "outputs": [
    {
     "name": "stdout",
     "output_type": "stream",
     "text": [
      "Accuracy for the training set : 0.45565\n",
      "Accuracy for the testing set : 0.45833\n"
     ]
    }
   ],
   "source": [
    "rf2 = RandomForestClassifier(n_estimators=100, criterion=\"gini\", max_depth=3, max_leaf_nodes=3, min_samples_leaf=5, min_samples_split=5, random_state=123)\n",
    "rf2.fit(x_train, y_train)\n",
    "pred_train_rf = rf2.predict(x_train)\n",
    "pred_test_rf = rf2.predict(x_test)\n",
    "acc_train_rf = accuracy_score(y_train, pred_train_rf)\n",
    "acc_test_rf = accuracy_score(y_test, pred_test_rf)\n",
    "print('Accuracy for the training set : '+str(acc_train_rf.round(5)))\n",
    "print('Accuracy for the testing set : '+str(acc_test_rf.round(5)))"
   ]
  },
  {
   "cell_type": "code",
   "execution_count": null,
   "id": "H2j-bKEKhxXt",
   "metadata": {
    "id": "H2j-bKEKhxXt"
   },
   "outputs": [],
   "source": [
    "# Standardizing the variables\n",
    "scaler = StandardScaler()\n",
    "scaler.fit(x_train)\n",
    "x_train_norm = scaler.transform(x_train)\n",
    "x_test_norm = scaler.transform(x_test)"
   ]
  },
  {
   "cell_type": "markdown",
   "id": "ko56Hts-qKm_",
   "metadata": {
    "id": "ko56Hts-qKm_"
   },
   "source": [
    "# Ada Boost Classifier"
   ]
  },
  {
   "cell_type": "code",
   "execution_count": null,
   "id": "RzSe56UGlzTY",
   "metadata": {
    "colab": {
     "base_uri": "https://localhost:8080/"
    },
    "executionInfo": {
     "elapsed": 3637,
     "status": "ok",
     "timestamp": 1647279814613,
     "user": {
      "displayName": "Nazih Effendi",
      "photoUrl": "https://lh3.googleusercontent.com/a/default-user=s64",
      "userId": "12525088258719974037"
     },
     "user_tz": -60
    },
    "id": "RzSe56UGlzTY",
    "outputId": "041961e6-1332-4f75-f02f-ac1d0c48ae75"
   },
   "outputs": [
    {
     "name": "stdout",
     "output_type": "stream",
     "text": [
      "Accuracy for the training set : 0.56603\n",
      "Accuracy for the testing set : 0.47849\n"
     ]
    }
   ],
   "source": [
    "decision_tree = DecisionTreeClassifier(criterion=\"gini\", max_depth=3, max_leaf_nodes=3, min_samples_leaf=5, min_samples_split=5, random_state=123)\n",
    "ada = AdaBoostClassifier(decision_tree, n_estimators = 100, random_state=123)\n",
    "ada.fit(x_train_norm, y_train)\n",
    "pred_train_ada = ada.predict(x_train_norm)\n",
    "pred_test_ada = ada.predict(x_test_norm)\n",
    "acc_train_ada = accuracy_score(y_train, pred_train_ada)\n",
    "acc_test_ada = accuracy_score(y_test, pred_test_ada)\n",
    "print('Accuracy for the training set : '+str(acc_train_ada.round(5)))\n",
    "print('Accuracy for the testing set : '+str(acc_test_ada.round(5)))"
   ]
  },
  {
   "cell_type": "markdown",
   "id": "F-QjwSM1qOk5",
   "metadata": {
    "id": "F-QjwSM1qOk5"
   },
   "source": [
    "# Gradient Boost Classifier"
   ]
  },
  {
   "cell_type": "code",
   "execution_count": null,
   "id": "KQRbZ79emABt",
   "metadata": {
    "colab": {
     "base_uri": "https://localhost:8080/"
    },
    "executionInfo": {
     "elapsed": 3761,
     "status": "ok",
     "timestamp": 1647279826843,
     "user": {
      "displayName": "Nazih Effendi",
      "photoUrl": "https://lh3.googleusercontent.com/a/default-user=s64",
      "userId": "12525088258719974037"
     },
     "user_tz": -60
    },
    "id": "KQRbZ79emABt",
    "outputId": "dff19b87-8cf5-495d-e5cb-bdac8ca7f1a1"
   },
   "outputs": [
    {
     "name": "stdout",
     "output_type": "stream",
     "text": [
      "Accuracy for the training set : 0.59913\n",
      "Accuracy for the testing set : 0.50538\n"
     ]
    }
   ],
   "source": [
    "\n",
    "gbt = GradientBoostingClassifier(learning_rate = 0.1, max_depth = 3, min_samples_leaf = 3, n_estimators=100, random_state=123)\n",
    "gbt.fit(x_train_norm, y_train)\n",
    "\n",
    "pred_train_gbt = gbt.predict(x_train_norm)\n",
    "pred_test_gbt = gbt.predict(x_test_norm)\n",
    "acc_train_gbt = accuracy_score(y_train, pred_train_gbt)\n",
    "acc_test_gbt = accuracy_score(y_test, pred_test_gbt)\n",
    "print('Accuracy for the training set : '+str(acc_train_gbt.round(5)))\n",
    "print('Accuracy for the testing set : '+str(acc_test_gbt.round(5)))"
   ]
  },
  {
   "cell_type": "markdown",
   "id": "xsCZFAUX8NKM",
   "metadata": {
    "id": "xsCZFAUX8NKM"
   },
   "source": [
    "# Artificial Neural Network"
   ]
  },
  {
   "cell_type": "code",
   "execution_count": null,
   "id": "ZMhOEyYt8cEW",
   "metadata": {
    "id": "ZMhOEyYt8cEW"
   },
   "outputs": [],
   "source": [
    "import tensorflow as tf\n",
    "from tensorflow.keras.models import Sequential\n",
    "from tensorflow.keras.layers import Dense, InputLayer\n",
    "from sklearn.preprocessing import MinMaxScaler\n",
    "from tensorflow.keras.utils import to_categorical"
   ]
  },
  {
   "cell_type": "code",
   "execution_count": null,
   "id": "JcZKyp148RCL",
   "metadata": {
    "id": "JcZKyp148RCL"
   },
   "outputs": [],
   "source": [
    "# One-hot encoding the dependent variable\n",
    "y = to_categorical(df[\"lrscale\"])"
   ]
  },
  {
   "cell_type": "code",
   "execution_count": null,
   "id": "sbpqgFXC8u41",
   "metadata": {
    "colab": {
     "base_uri": "https://localhost:8080/"
    },
    "executionInfo": {
     "elapsed": 5,
     "status": "ok",
     "timestamp": 1647279844442,
     "user": {
      "displayName": "Nazih Effendi",
      "photoUrl": "https://lh3.googleusercontent.com/a/default-user=s64",
      "userId": "12525088258719974037"
     },
     "user_tz": -60
    },
    "id": "sbpqgFXC8u41",
    "outputId": "07be2619-57cf-49ce-a00a-77791c6f3570"
   },
   "outputs": [
    {
     "data": {
      "text/plain": [
       "(3,)"
      ]
     },
     "execution_count": 65,
     "metadata": {},
     "output_type": "execute_result"
    }
   ],
   "source": [
    "y[1].shape"
   ]
  },
  {
   "cell_type": "code",
   "execution_count": null,
   "id": "BUvUE1xE_kUj",
   "metadata": {
    "id": "BUvUE1xE_kUj"
   },
   "outputs": [],
   "source": [
    "from tensorflow.keras.optimizers import Adam"
   ]
  },
  {
   "cell_type": "code",
   "execution_count": null,
   "id": "9pdyMt_p90hw",
   "metadata": {
    "colab": {
     "base_uri": "https://localhost:8080/"
    },
    "executionInfo": {
     "elapsed": 6937,
     "status": "ok",
     "timestamp": 1647279948278,
     "user": {
      "displayName": "Nazih Effendi",
      "photoUrl": "https://lh3.googleusercontent.com/a/default-user=s64",
      "userId": "12525088258719974037"
     },
     "user_tz": -60
    },
    "id": "9pdyMt_p90hw",
    "outputId": "ca3530a7-532a-45c7-a04e-b9cc7ac0f49b"
   },
   "outputs": [
    {
     "name": "stdout",
     "output_type": "stream",
     "text": [
      "Epoch 1/20\n",
      "30/30 - 2s - loss: 1.6975 - accuracy: 0.3310 - val_loss: 1.1624 - val_accuracy: 0.3212 - 2s/epoch - 55ms/step\n",
      "Epoch 2/20\n",
      "30/30 - 0s - loss: 1.1180 - accuracy: 0.3338 - val_loss: 1.1078 - val_accuracy: 0.3454 - 165ms/epoch - 5ms/step\n",
      "Epoch 3/20\n",
      "30/30 - 0s - loss: 1.0947 - accuracy: 0.3816 - val_loss: 1.0915 - val_accuracy: 0.3797 - 229ms/epoch - 8ms/step\n",
      "Epoch 4/20\n",
      "30/30 - 0s - loss: 1.0833 - accuracy: 0.4049 - val_loss: 1.0687 - val_accuracy: 0.4348 - 212ms/epoch - 7ms/step\n",
      "Epoch 5/20\n",
      "30/30 - 0s - loss: 1.0750 - accuracy: 0.4232 - val_loss: 1.0713 - val_accuracy: 0.4153 - 193ms/epoch - 6ms/step\n",
      "Epoch 6/20\n",
      "30/30 - 0s - loss: 1.0650 - accuracy: 0.4341 - val_loss: 1.0556 - val_accuracy: 0.4476 - 188ms/epoch - 6ms/step\n",
      "Epoch 7/20\n",
      "30/30 - 0s - loss: 1.0549 - accuracy: 0.4419 - val_loss: 1.0447 - val_accuracy: 0.4617 - 238ms/epoch - 8ms/step\n",
      "Epoch 8/20\n",
      "30/30 - 0s - loss: 1.0428 - accuracy: 0.4585 - val_loss: 1.0434 - val_accuracy: 0.4556 - 237ms/epoch - 8ms/step\n",
      "Epoch 9/20\n",
      "30/30 - 0s - loss: 1.0349 - accuracy: 0.4607 - val_loss: 1.0288 - val_accuracy: 0.4812 - 150ms/epoch - 5ms/step\n",
      "Epoch 10/20\n",
      "30/30 - 0s - loss: 1.0276 - accuracy: 0.4619 - val_loss: 1.0453 - val_accuracy: 0.4496 - 151ms/epoch - 5ms/step\n",
      "Epoch 11/20\n",
      "30/30 - 0s - loss: 1.0229 - accuracy: 0.4719 - val_loss: 1.0354 - val_accuracy: 0.4778 - 196ms/epoch - 7ms/step\n",
      "Epoch 12/20\n",
      "30/30 - 0s - loss: 1.0185 - accuracy: 0.4708 - val_loss: 1.0341 - val_accuracy: 0.4758 - 211ms/epoch - 7ms/step\n",
      "Epoch 13/20\n",
      "30/30 - 0s - loss: 1.0135 - accuracy: 0.4800 - val_loss: 1.0330 - val_accuracy: 0.4704 - 149ms/epoch - 5ms/step\n",
      "Epoch 14/20\n",
      "30/30 - 0s - loss: 1.0109 - accuracy: 0.4788 - val_loss: 1.0191 - val_accuracy: 0.4899 - 224ms/epoch - 7ms/step\n",
      "Epoch 15/20\n",
      "30/30 - 0s - loss: 1.0082 - accuracy: 0.4808 - val_loss: 1.0259 - val_accuracy: 0.4933 - 163ms/epoch - 5ms/step\n",
      "Epoch 16/20\n",
      "30/30 - 0s - loss: 1.0080 - accuracy: 0.4787 - val_loss: 1.0157 - val_accuracy: 0.4919 - 161ms/epoch - 5ms/step\n",
      "Epoch 17/20\n",
      "30/30 - 0s - loss: 1.0059 - accuracy: 0.4768 - val_loss: 1.0141 - val_accuracy: 0.4966 - 197ms/epoch - 7ms/step\n",
      "Epoch 18/20\n",
      "30/30 - 0s - loss: 1.0016 - accuracy: 0.4842 - val_loss: 1.0190 - val_accuracy: 0.4839 - 166ms/epoch - 6ms/step\n",
      "Epoch 19/20\n",
      "30/30 - 0s - loss: 0.9994 - accuracy: 0.4864 - val_loss: 1.0339 - val_accuracy: 0.4825 - 152ms/epoch - 5ms/step\n",
      "Epoch 20/20\n",
      "30/30 - 0s - loss: 0.9999 - accuracy: 0.4874 - val_loss: 1.0298 - val_accuracy: 0.4872 - 161ms/epoch - 5ms/step\n"
     ]
    }
   ],
   "source": [
    "tf.random.set_seed(0)\n",
    "\n",
    "model = Sequential([\n",
    "    InputLayer(input_shape=X.shape[1:]),\n",
    "    Dense(units=15, activation=\"relu\"),\n",
    "    Dense(units=15, activation=\"relu\"),\n",
    "    Dense(units=15, activation=\"relu\"),\n",
    "    Dense(units=y.shape[1], activation=\"softmax\")\n",
    "])\n",
    "model.compile(loss=\"categorical_crossentropy\", optimizer= Adam(learning_rate= 0.001), metrics=[\"accuracy\"])\n",
    "h = model.fit(X, y, epochs=20, batch_size=200, verbose=2, validation_split=.2)"
   ]
  },
  {
   "cell_type": "code",
   "execution_count": null,
   "id": "YZRHzNzI_EhF",
   "metadata": {
    "colab": {
     "base_uri": "https://localhost:8080/",
     "height": 268
    },
    "executionInfo": {
     "elapsed": 1483,
     "status": "ok",
     "timestamp": 1647279949742,
     "user": {
      "displayName": "Nazih Effendi",
      "photoUrl": "https://lh3.googleusercontent.com/a/default-user=s64",
      "userId": "12525088258719974037"
     },
     "user_tz": -60
    },
    "id": "YZRHzNzI_EhF",
    "outputId": "3776fbb2-1a47-48d0-efc3-6b8d9f7c4ab3"
   },
   "outputs": [
    {
     "data": {
      "image/png": "[encoded data removed]",
      "text/plain": [
       "<Figure size 432x288 with 1 Axes>"
      ]
     },
     "metadata": {},
     "output_type": "display_data"
    }
   ],
   "source": [
    "import matplotlib.pyplot as plt\n",
    "import numpy as np\n",
    "\n",
    "plt.plot(np.arange(1, 21), h.history[\"loss\"], label=\"Training loss\")\n",
    "plt.plot(np.arange(1, 21), h.history[\"val_loss\"], label=\"Validation loss\")\n",
    "plt.axvline(x=np.argmin(h.history[\"val_loss\"]) + 1, color='k', linestyle='--')\n",
    "plt.legend();"
   ]
  },
  {
   "cell_type": "code",
   "execution_count": null,
   "id": "ux86aYDnrjVa",
   "metadata": {
    "id": "ux86aYDnrjVa"
   },
   "outputs": [],
   "source": [
    "# Increasing the number of epochs and using EarlyStopping to get the model to learn better and stop when overfitting"
   ]
  },
  {
   "cell_type": "code",
   "execution_count": null,
   "id": "sYr_yKuJiPtE",
   "metadata": {
    "colab": {
     "base_uri": "https://localhost:8080/"
    },
    "executionInfo": {
     "elapsed": 12339,
     "status": "ok",
     "timestamp": 1647280034419,
     "user": {
      "displayName": "Nazih Effendi",
      "photoUrl": "https://lh3.googleusercontent.com/a/default-user=s64",
      "userId": "12525088258719974037"
     },
     "user_tz": -60
    },
    "id": "sYr_yKuJiPtE",
    "outputId": "fe1d9ac1-35c8-4671-d7e9-f8bd6368d92e"
   },
   "outputs": [
    {
     "name": "stdout",
     "output_type": "stream",
     "text": [
      "Epoch 1/100\n",
      "30/30 - 2s - loss: 1.6975 - accuracy: 0.3310 - val_loss: 1.1624 - val_accuracy: 0.3212 - 2s/epoch - 53ms/step\n",
      "Epoch 2/100\n",
      "30/30 - 0s - loss: 1.1180 - accuracy: 0.3338 - val_loss: 1.1078 - val_accuracy: 0.3454 - 227ms/epoch - 8ms/step\n",
      "Epoch 3/100\n",
      "30/30 - 0s - loss: 1.0947 - accuracy: 0.3816 - val_loss: 1.0915 - val_accuracy: 0.3797 - 152ms/epoch - 5ms/step\n",
      "Epoch 4/100\n",
      "30/30 - 0s - loss: 1.0833 - accuracy: 0.4049 - val_loss: 1.0687 - val_accuracy: 0.4348 - 198ms/epoch - 7ms/step\n",
      "Epoch 5/100\n",
      "30/30 - 0s - loss: 1.0750 - accuracy: 0.4232 - val_loss: 1.0713 - val_accuracy: 0.4153 - 178ms/epoch - 6ms/step\n",
      "Epoch 6/100\n",
      "30/30 - 0s - loss: 1.0650 - accuracy: 0.4341 - val_loss: 1.0556 - val_accuracy: 0.4476 - 198ms/epoch - 7ms/step\n",
      "Epoch 7/100\n",
      "30/30 - 0s - loss: 1.0549 - accuracy: 0.4419 - val_loss: 1.0447 - val_accuracy: 0.4617 - 227ms/epoch - 8ms/step\n",
      "Epoch 8/100\n",
      "30/30 - 0s - loss: 1.0428 - accuracy: 0.4585 - val_loss: 1.0434 - val_accuracy: 0.4556 - 150ms/epoch - 5ms/step\n",
      "Epoch 9/100\n",
      "30/30 - 0s - loss: 1.0349 - accuracy: 0.4607 - val_loss: 1.0288 - val_accuracy: 0.4812 - 170ms/epoch - 6ms/step\n",
      "Epoch 10/100\n",
      "30/30 - 0s - loss: 1.0276 - accuracy: 0.4619 - val_loss: 1.0453 - val_accuracy: 0.4496 - 170ms/epoch - 6ms/step\n",
      "Epoch 11/100\n",
      "30/30 - 0s - loss: 1.0229 - accuracy: 0.4719 - val_loss: 1.0354 - val_accuracy: 0.4778 - 160ms/epoch - 5ms/step\n",
      "Epoch 12/100\n",
      "30/30 - 0s - loss: 1.0185 - accuracy: 0.4708 - val_loss: 1.0341 - val_accuracy: 0.4758 - 165ms/epoch - 6ms/step\n",
      "Epoch 13/100\n",
      "30/30 - 0s - loss: 1.0135 - accuracy: 0.4800 - val_loss: 1.0330 - val_accuracy: 0.4704 - 249ms/epoch - 8ms/step\n",
      "Epoch 14/100\n",
      "30/30 - 0s - loss: 1.0109 - accuracy: 0.4788 - val_loss: 1.0191 - val_accuracy: 0.4899 - 183ms/epoch - 6ms/step\n",
      "Epoch 15/100\n",
      "30/30 - 0s - loss: 1.0082 - accuracy: 0.4808 - val_loss: 1.0259 - val_accuracy: 0.4933 - 174ms/epoch - 6ms/step\n",
      "Epoch 16/100\n",
      "30/30 - 0s - loss: 1.0080 - accuracy: 0.4787 - val_loss: 1.0157 - val_accuracy: 0.4919 - 184ms/epoch - 6ms/step\n",
      "Epoch 17/100\n",
      "30/30 - 0s - loss: 1.0059 - accuracy: 0.4768 - val_loss: 1.0141 - val_accuracy: 0.4966 - 356ms/epoch - 12ms/step\n",
      "Epoch 18/100\n",
      "30/30 - 0s - loss: 1.0016 - accuracy: 0.4842 - val_loss: 1.0190 - val_accuracy: 0.4839 - 380ms/epoch - 13ms/step\n",
      "Epoch 19/100\n",
      "30/30 - 0s - loss: 0.9994 - accuracy: 0.4864 - val_loss: 1.0339 - val_accuracy: 0.4825 - 313ms/epoch - 10ms/step\n",
      "Epoch 20/100\n",
      "30/30 - 0s - loss: 0.9999 - accuracy: 0.4874 - val_loss: 1.0298 - val_accuracy: 0.4872 - 297ms/epoch - 10ms/step\n",
      "Epoch 21/100\n",
      "30/30 - 0s - loss: 1.0010 - accuracy: 0.4867 - val_loss: 1.0058 - val_accuracy: 0.5094 - 192ms/epoch - 6ms/step\n",
      "Epoch 22/100\n",
      "30/30 - 0s - loss: 0.9975 - accuracy: 0.4871 - val_loss: 1.0080 - val_accuracy: 0.5047 - 196ms/epoch - 7ms/step\n",
      "Epoch 23/100\n",
      "30/30 - 0s - loss: 0.9982 - accuracy: 0.4861 - val_loss: 1.0054 - val_accuracy: 0.5047 - 164ms/epoch - 5ms/step\n",
      "Epoch 24/100\n",
      "30/30 - 0s - loss: 0.9948 - accuracy: 0.4934 - val_loss: 1.0105 - val_accuracy: 0.4886 - 198ms/epoch - 7ms/step\n",
      "Epoch 25/100\n",
      "30/30 - 0s - loss: 0.9928 - accuracy: 0.4913 - val_loss: 1.0162 - val_accuracy: 0.4960 - 171ms/epoch - 6ms/step\n",
      "Epoch 26/100\n",
      "30/30 - 0s - loss: 0.9956 - accuracy: 0.4933 - val_loss: 1.0121 - val_accuracy: 0.5000 - 175ms/epoch - 6ms/step\n",
      "Epoch 27/100\n",
      "30/30 - 0s - loss: 0.9936 - accuracy: 0.4958 - val_loss: 1.0139 - val_accuracy: 0.5054 - 186ms/epoch - 6ms/step\n",
      "Epoch 28/100\n",
      "30/30 - 0s - loss: 0.9923 - accuracy: 0.4923 - val_loss: 1.0053 - val_accuracy: 0.5034 - 167ms/epoch - 6ms/step\n",
      "Epoch 29/100\n",
      "30/30 - 0s - loss: 0.9919 - accuracy: 0.4950 - val_loss: 1.0121 - val_accuracy: 0.5047 - 179ms/epoch - 6ms/step\n",
      "Epoch 30/100\n",
      "30/30 - 0s - loss: 0.9926 - accuracy: 0.4956 - val_loss: 1.0104 - val_accuracy: 0.5034 - 163ms/epoch - 5ms/step\n",
      "Epoch 31/100\n",
      "30/30 - 0s - loss: 0.9905 - accuracy: 0.5000 - val_loss: 0.9994 - val_accuracy: 0.5175 - 215ms/epoch - 7ms/step\n",
      "Epoch 32/100\n",
      "30/30 - 0s - loss: 0.9897 - accuracy: 0.4956 - val_loss: 1.0038 - val_accuracy: 0.5047 - 182ms/epoch - 6ms/step\n",
      "Epoch 33/100\n",
      "30/30 - 0s - loss: 0.9888 - accuracy: 0.4975 - val_loss: 0.9991 - val_accuracy: 0.5128 - 168ms/epoch - 6ms/step\n",
      "Epoch 34/100\n",
      "30/30 - 0s - loss: 0.9902 - accuracy: 0.4933 - val_loss: 0.9975 - val_accuracy: 0.5141 - 102ms/epoch - 3ms/step\n",
      "Epoch 35/100\n",
      "30/30 - 0s - loss: 0.9886 - accuracy: 0.4945 - val_loss: 0.9963 - val_accuracy: 0.5114 - 112ms/epoch - 4ms/step\n",
      "Epoch 36/100\n",
      "30/30 - 0s - loss: 0.9894 - accuracy: 0.4950 - val_loss: 1.0069 - val_accuracy: 0.5087 - 112ms/epoch - 4ms/step\n",
      "Epoch 37/100\n",
      "30/30 - 0s - loss: 0.9900 - accuracy: 0.4940 - val_loss: 0.9974 - val_accuracy: 0.5060 - 112ms/epoch - 4ms/step\n",
      "Epoch 38/100\n",
      "30/30 - 0s - loss: 0.9873 - accuracy: 0.4980 - val_loss: 1.0017 - val_accuracy: 0.5114 - 116ms/epoch - 4ms/step\n",
      "Epoch 39/100\n",
      "30/30 - 0s - loss: 0.9865 - accuracy: 0.5039 - val_loss: 1.0047 - val_accuracy: 0.5027 - 93ms/epoch - 3ms/step\n",
      "Epoch 40/100\n",
      "30/30 - 0s - loss: 0.9858 - accuracy: 0.4985 - val_loss: 1.0138 - val_accuracy: 0.4899 - 116ms/epoch - 4ms/step\n",
      "Epoch 41/100\n",
      "30/30 - 0s - loss: 0.9865 - accuracy: 0.4950 - val_loss: 0.9963 - val_accuracy: 0.5134 - 104ms/epoch - 3ms/step\n",
      "Epoch 42/100\n",
      "30/30 - 0s - loss: 0.9847 - accuracy: 0.4993 - val_loss: 1.0031 - val_accuracy: 0.5101 - 108ms/epoch - 4ms/step\n",
      "Epoch 43/100\n",
      "30/30 - 0s - loss: 0.9857 - accuracy: 0.5018 - val_loss: 1.0046 - val_accuracy: 0.5134 - 118ms/epoch - 4ms/step\n",
      "Epoch 44/100\n",
      "30/30 - 0s - loss: 0.9871 - accuracy: 0.4940 - val_loss: 0.9988 - val_accuracy: 0.5128 - 105ms/epoch - 3ms/step\n",
      "Epoch 45/100\n",
      "30/30 - 0s - loss: 0.9842 - accuracy: 0.5034 - val_loss: 0.9964 - val_accuracy: 0.5087 - 100ms/epoch - 3ms/step\n",
      "Epoch 46/100\n",
      "30/30 - 0s - loss: 0.9842 - accuracy: 0.4998 - val_loss: 1.0195 - val_accuracy: 0.4906 - 94ms/epoch - 3ms/step\n",
      "Epoch 47/100\n",
      "30/30 - 0s - loss: 0.9835 - accuracy: 0.5012 - val_loss: 0.9961 - val_accuracy: 0.5134 - 113ms/epoch - 4ms/step\n",
      "Epoch 48/100\n",
      "30/30 - 0s - loss: 0.9819 - accuracy: 0.5025 - val_loss: 1.0061 - val_accuracy: 0.5013 - 119ms/epoch - 4ms/step\n",
      "Epoch 49/100\n",
      "30/30 - 0s - loss: 0.9806 - accuracy: 0.5086 - val_loss: 0.9973 - val_accuracy: 0.5175 - 107ms/epoch - 4ms/step\n",
      "Epoch 50/100\n",
      "30/30 - 0s - loss: 0.9821 - accuracy: 0.5018 - val_loss: 0.9986 - val_accuracy: 0.5121 - 114ms/epoch - 4ms/step\n",
      "Epoch 51/100\n",
      "30/30 - 0s - loss: 0.9830 - accuracy: 0.5034 - val_loss: 0.9922 - val_accuracy: 0.5134 - 105ms/epoch - 4ms/step\n",
      "Epoch 52/100\n",
      "30/30 - 0s - loss: 0.9840 - accuracy: 0.5049 - val_loss: 1.0148 - val_accuracy: 0.4933 - 102ms/epoch - 3ms/step\n",
      "Epoch 53/100\n",
      "30/30 - 0s - loss: 0.9817 - accuracy: 0.4993 - val_loss: 0.9987 - val_accuracy: 0.5114 - 104ms/epoch - 3ms/step\n",
      "Epoch 54/100\n",
      "30/30 - 0s - loss: 0.9836 - accuracy: 0.5002 - val_loss: 0.9928 - val_accuracy: 0.5087 - 96ms/epoch - 3ms/step\n",
      "Epoch 55/100\n",
      "30/30 - 0s - loss: 0.9803 - accuracy: 0.5060 - val_loss: 0.9953 - val_accuracy: 0.5081 - 111ms/epoch - 4ms/step\n",
      "Epoch 56/100\n",
      "30/30 - 0s - loss: 0.9849 - accuracy: 0.5007 - val_loss: 0.9957 - val_accuracy: 0.5128 - 118ms/epoch - 4ms/step\n",
      "Epoch 57/100\n",
      "30/30 - 0s - loss: 0.9782 - accuracy: 0.5064 - val_loss: 1.0107 - val_accuracy: 0.4933 - 110ms/epoch - 4ms/step\n",
      "Epoch 58/100\n",
      "30/30 - 0s - loss: 0.9796 - accuracy: 0.5049 - val_loss: 1.0158 - val_accuracy: 0.4940 - 100ms/epoch - 3ms/step\n",
      "Epoch 59/100\n",
      "30/30 - 0s - loss: 0.9808 - accuracy: 0.5060 - val_loss: 0.9948 - val_accuracy: 0.5101 - 100ms/epoch - 3ms/step\n",
      "Epoch 60/100\n",
      "30/30 - 0s - loss: 0.9828 - accuracy: 0.5012 - val_loss: 0.9952 - val_accuracy: 0.5047 - 105ms/epoch - 3ms/step\n",
      "Epoch 61/100\n",
      "30/30 - 0s - loss: 0.9790 - accuracy: 0.4971 - val_loss: 0.9998 - val_accuracy: 0.5054 - 120ms/epoch - 4ms/step\n"
     ]
    }
   ],
   "source": [
    "from tensorflow.keras.callbacks import EarlyStopping\n",
    "\n",
    "cb = EarlyStopping(monitor=\"val_loss\", patience=10, restore_best_weights=True)\n",
    "\n",
    "tf.random.set_seed(0)\n",
    "\n",
    "model = Sequential([\n",
    "    InputLayer(input_shape=X.shape[1:]),\n",
    "    Dense(units=15, activation=\"relu\"),\n",
    "    Dense(units=15, activation=\"relu\"),\n",
    "    Dense(units=15, activation=\"relu\"),\n",
    "    Dense(units=y.shape[1], activation=\"softmax\")\n",
    "])\n",
    "model.compile(loss=\"categorical_crossentropy\", optimizer= Adam(learning_rate= 0.001), metrics=[\"accuracy\"])\n",
    "h = model.fit(X, y, epochs=100, batch_size=200, verbose=2, validation_split=.2, callbacks= [cb])\n"
   ]
  },
  {
   "cell_type": "code",
   "execution_count": null,
   "id": "Hl_JuRglil6P",
   "metadata": {
    "colab": {
     "base_uri": "https://localhost:8080/"
    },
    "executionInfo": {
     "elapsed": 365,
     "status": "ok",
     "timestamp": 1647280148251,
     "user": {
      "displayName": "Nazih Effendi",
      "photoUrl": "https://lh3.googleusercontent.com/a/default-user=s64",
      "userId": "12525088258719974037"
     },
     "user_tz": -60
    },
    "id": "Hl_JuRglil6P",
    "outputId": "8da0ab7a-be03-42c7-d0c1-df66cfb3435e"
   },
   "outputs": [
    {
     "data": {
      "text/plain": [
       "0.5174731016159058"
      ]
     },
     "execution_count": 80,
     "metadata": {},
     "output_type": "execute_result"
    }
   ],
   "source": [
    "# Code to get the highest accuracy on the out of sample data\n",
    "max(h.history[\"val_accuracy\"])"
   ]
  },
  {
   "cell_type": "code",
   "execution_count": null,
   "id": "HT8mhbaCiyFf",
   "metadata": {
    "colab": {
     "base_uri": "https://localhost:8080/",
     "height": 268
    },
    "executionInfo": {
     "elapsed": 970,
     "status": "ok",
     "timestamp": 1647280186305,
     "user": {
      "displayName": "Nazih Effendi",
      "photoUrl": "https://lh3.googleusercontent.com/a/default-user=s64",
      "userId": "12525088258719974037"
     },
     "user_tz": -60
    },
    "id": "HT8mhbaCiyFf",
    "outputId": "48b8c648-be4f-4f07-f9bd-7330b3f4328b"
   },
   "outputs": [
    {
     "data": {
      "image/png": "[encoded data removed]",
      "text/plain": [
       "<Figure size 432x288 with 1 Axes>"
      ]
     },
     "metadata": {},
     "output_type": "display_data"
    }
   ],
   "source": [
    "import matplotlib.pyplot as plt\n",
    "import numpy as np\n",
    "\n",
    "plt.plot(np.arange(1, 62), h.history[\"loss\"], label=\"Training loss\")\n",
    "plt.plot(np.arange(1, 62), h.history[\"val_loss\"], label=\"Validation loss\")\n",
    "plt.axvline(x=np.argmin(h.history[\"val_loss\"]) + 1, color='k', linestyle='--')\n",
    "plt.legend();"
   ]
  },
  {
   "cell_type": "code",
   "execution_count": null,
   "id": "rA2kQe5MjN4H",
   "metadata": {
    "id": "rA2kQe5MjN4H"
   },
   "outputs": [],
   "source": []
  }
 ],
 "metadata": {
  "colab": {
   "collapsed_sections": [],
   "name": "Project_Final.ipynb",
   "provenance": []
  },
  "kernelspec": {
   "display_name": "pypr",
   "language": "python",
   "name": "pypr"
  },
  "language_info": {
   "codemirror_mode": {
    "name": "ipython",
    "version": 3
   },
   "file_extension": ".py",
   "mimetype": "text/x-python",
   "name": "python",
   "nbconvert_exporter": "python",
   "pygments_lexer": "ipython3",
   "version": "3.8.11"
  }
 },
 "nbformat": 4,
 "nbformat_minor": 5
}
